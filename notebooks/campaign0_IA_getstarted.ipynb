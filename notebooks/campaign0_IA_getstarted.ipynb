{
 "nbformat": 4,
 "nbformat_minor": 2,
 "metadata": {
  "language_info": {
   "name": "python",
   "codemirror_mode": {
    "name": "ipython",
    "version": 3
   },
   "version": "3.6.9-final"
  },
  "orig_nbformat": 2,
  "file_extension": ".py",
  "mimetype": "text/x-python",
  "name": "python",
  "npconvert_exporter": "python",
  "pygments_lexer": "ipython3",
  "version": 3,
  "kernelspec": {
   "name": "python36964bitsurfridercondaa4d29431e9f947419d6d850056118d13",
   "display_name": "Python 3.6.9 64-bit ('surfrider': conda)"
  }
 },
 "cells": [
  {
   "cell_type": "markdown",
   "execution_count": null,
   "metadata": {},
   "outputs": [],
   "source": [
    "### azure pre-requesite"
   ]
  },
  {
   "cell_type": "code",
   "execution_count": 1,
   "metadata": {},
   "outputs": [],
   "source": [
    "# get connection_string\n",
    "import os\n",
    "connection_string = os.getenv(\"CONN_STRING\")"
   ]
  },
  {
   "cell_type": "code",
   "execution_count": null,
   "metadata": {},
   "outputs": [],
   "source": [
    "# import container client and enumerate blob within container\n",
    "from azure.storage.blob import ContainerClient\n",
    "\n",
    "def blobInContainer(connection_s,container_n):\n",
    "    campaign_container = ContainerClient.from_connection_string(conn_str=connection_s, container_name=container_n)\n",
    "    blob_list = campaign_container.list_blobs()\n",
    "    blob_names_list = []\n",
    "    for blob in blob_list:\n",
    "        blob_names_list.append(blob.name)\n",
    "    return blob_names_list\n",
    "\n",
    "blobs_campaign0 = blobInContainer(connection_string,'campaign0')\n",
    "print(blobs_campaign0)\n",
    "\n",
    "# Get Blob Video info\n",
    "from azure.storage.blob import BlobClient\n",
    "\n",
    "def blobInfos(connection_s,container_n,blob_n):\n",
    "    blob_video = BlobClient.from_connection_string(conn_str=connection_s,container_name=container_n, blob_name=blob_n)\n",
    "    blob_video_url = blob_video.url\n",
    "    blob_video_prop = blob_video.get_blob_properties()\n",
    "    blob_video_prop_keys = blob_video_prop.keys()\n",
    "    print(\"blob name:\",blob_n)\n",
    "    print(\"blob URL:\",blob_video_url)\n",
    "    print(\"blob properties:\", blob_video_prop)\n",
    "    print(\"blob properties keys:\", blob_video_prop_keys)\n",
    "\n",
    "blob_video_name = 'vid1-4K4.mp4'\n",
    "blobInfos(connection_string,'campaign0',blob_video_name)"
   ]
  },
  {
   "cell_type": "code",
   "execution_count": null,
   "metadata": {},
   "outputs": [],
   "source": [
    "from azure.storage.blob import BlobClient\n",
    "blob_video0 = BlobClient.from_connection_string(conn_str=connection_string,container_name=\"campaign0\", blob_name=\"vid1-4K4.mp4\")\n",
    "\n",
    "''' function to download blob from Azure to local file system'''\n",
    "''' parameter is a blob client object from azure storage sdk'''\n",
    "def downloadBlob(blobclient):\n",
    "    with open(\"/tmp/\"+blobclient.blob_name, \"wb\") as my_blob_dl:\n",
    "        blob_data = blobclient.download_blob()\n",
    "        blob_data.readinto(my_blob_dl)\n",
    "    print(\"Blob %s downloaded\" %blobclient.blob_name)\n",
    "    print(\"Blob path: /tmp/%s\" %blobclient.blob_name)\n",
    "\n",
    "downloadBlob(blob_video0)\n",
    "# this function should handle connection issue"
   ]
  },
  {
   "cell_type": "markdown",
   "execution_count": null,
   "metadata": {},
   "outputs": [],
   "source": [
    "### REST requests"
   ]
  },
  {
   "cell_type": "code",
   "execution_count": null,
   "metadata": {},
   "outputs": [],
   "source": [
    "#https://stackoverflow.com/questions/3777301/how-to-call-a-shell-script-from-python-code\n",
    "#https://stackoverflow.com/questions/325463/launch-a-shell-command-with-in-a-python-script-wait-for-the-termination-and-ret\n",
    "\n",
    "import subprocess\n",
    "\n",
    "''' getPrediction function sends curl request to Surfrider AI'''\n",
    "''' video name is the name of a locally downloaded video from Azure'''\n",
    "''' video name is passed as an argument to curl_request script '''\n",
    "''' curl_request script sends actual POST request to Surfrider AI'''\n",
    "def getPrediction(video_name):\n",
    "    curl_request_script = ['./curl_request_param.sh',video_name]\n",
    "    output = []\n",
    "    request_answer = subprocess.Popen(curl_request_script, stdout=subprocess.PIPE)\n",
    "    for line in request_answer.stdout:\n",
    "        print(line)\n",
    "        output.append(line)\n",
    "    return output\n",
    "\n",
    "# this function should handle connection issue"
   ]
  },
  {
   "cell_type": "code",
   "execution_count": null,
   "metadata": {},
   "outputs": [],
   "source": [
    "# get predictions from AI on vid1-4K4.MP4\n",
    "prediction = getPrediction('vid1-4K4.mp4')\n",
    "prediction"
   ]
  },
  {
   "cell_type": "code",
   "execution_count": null,
   "metadata": {},
   "outputs": [],
   "source": [
    "prediction = getPrediction('goproshort-480p.mov')\n",
    "prediction"
   ]
  },
  {
   "cell_type": "markdown",
   "execution_count": null,
   "metadata": {},
   "outputs": [],
   "source": [
    "### JSON Decode"
   ]
  },
  {
   "cell_type": "code",
   "execution_count": null,
   "metadata": {},
   "outputs": [],
   "source": [
    "import json\n",
    "\n",
    "''' jsonPrediction cast a prediction from getPrediction function '''\n",
    "''' and cast the list prediction as a string then dictionnary with json_loads '''\n",
    "def jsonPrediction(pred):\n",
    "    string_prediction = str(pred[0])[2:-3] #removing 2 x first and 3 last characters of pred\n",
    "    json_prediction = json.loads(string_prediction)\n",
    "    return json_prediction"
   ]
  },
  {
   "cell_type": "code",
   "execution_count": null,
   "metadata": {},
   "outputs": [],
   "source": [
    "json_prediction = jsonPrediction(prediction)\n",
    "json_prediction"
   ]
  },
  {
   "cell_type": "code",
   "execution_count": null,
   "metadata": {},
   "outputs": [],
   "source": [
    "for frame_to_box in json_prediction['detected_trash']:\n",
    "    print(frame_to_box)\n",
    "    print(frame_to_box['label'])"
   ]
  },
  {
   "cell_type": "code",
   "execution_count": null,
   "metadata": {},
   "outputs": [],
   "source": [
    "''' getTrashLabel return label from a frame_to_box'''\n",
    "def getTrashLabel(frame_2_box):\n",
    "    return frame_to_box['label']\n",
    "\n",
    "test_f2b = {'frame_to_box': {'2': [0.45, 0.44, 0.5, 0.5]}, 'id': 0, 'label': 'fragments'}\n",
    "getTrashLabel(test_f2b['frame_to_box'])"
   ]
  },
  {
   "cell_type": "markdown",
   "execution_count": null,
   "metadata": {},
   "outputs": [],
   "source": [
    "### requests - skip for now"
   ]
  },
  {
   "cell_type": "code",
   "execution_count": null,
   "metadata": {},
   "outputs": [],
   "source": [
    "# Make first GET Request using requests module\n",
    "import requests\n",
    "r_get = requests.get('https://github.com/timeline.json')\n",
    "print(r_get.text)\n",
    "# Make first POST Request using requests module\n",
    "r_post = requests.post(\"http://httpbin.org/post\")\n",
    "print(r_post.text) # response in text format\n",
    "print(r_post.json()) # response is json formated\n",
    "\n",
    "# Video POST request example\n",
    "desktop = '/Users/clement/Desktop/'\n",
    "video = 'vid1-4K.MP4'\n",
    "video_path = os.path.join(desktop,video)\n",
    "url = 'http://aiapisurfrider.northeurope.cloudapp.azure.com:5000'\n",
    "myfile = {'file': open(video_path ,'rb')}\n",
    "#myairequest = requests.post(url, files = myfile)\n",
    "\n",
    "# Image POST request example\n",
    "desktop = '/Users/clement/Desktop/'\n",
    "img = 'G0061735.JPG'\n",
    "img_path = os.path.join(desktop,img)\n",
    "url = 'http://aiapisurfrider.northeurope.cloudapp.azure.com:5000'\n",
    "myfile = {'file': open(img_path ,'rb')}\n",
    "myairequest = requests.post(url, files = myfile)"
   ]
  },
  {
   "cell_type": "markdown",
   "execution_count": null,
   "metadata": {},
   "outputs": [],
   "source": [
    "### SQL Operations"
   ]
  },
  {
   "cell_type": "code",
   "execution_count": null,
   "metadata": {},
   "outputs": [],
   "source": [
    "# import sql odbc driver and connect to SQL DB\n",
    "import os\n",
    "import pyodbc\n",
    "server = os.getenv(\"SERVER\")\n",
    "database = os.getenv(\"DATABASE\")\n",
    "username = os.getenv(\"USERNAME\")\n",
    "password = os.getenv(\"SQLPWD\")\n",
    "driver= '{ODBC Driver 17 for SQL Server}'\n",
    "cnxn = pyodbc.connect('DRIVER='+driver+';SERVER='+server+';PORT=1433;DATABASE='+database+';UID='+username+';PWD='+ password)\n",
    "cursor = cnxn.cursor()"
   ]
  },
  {
   "cell_type": "code",
   "execution_count": null,
   "metadata": {},
   "outputs": [],
   "source": [
    "# Sample Query on dbo.Trash_Type\n",
    "cursor.execute(\"SELECT * FROM dbo.Trash_Type\")\n",
    "row = cursor.fetchone()\n",
    "while row:\n",
    "    print (str(row[0]))\n",
    "    print (str(row[1]))\n",
    "    row = cursor.fetchone()"
   ]
  },
  {
   "cell_type": "code",
   "execution_count": null,
   "metadata": {},
   "outputs": [],
   "source": [
    "def mapLabel2TrashId(label):\n",
    "    switcher = { \n",
    "    \"Fishing or Hunting\":\"89B44BAA-69AA-4109-891A-128E012E7E07\",\n",
    "    \"Food Packaging\":\"185FEFA2-EEF2-47A8-873E-26032A4BB3C3\",\n",
    "    \"Unknown\":\"BB4DEA69-218A-40CC-A000-2AE17C37152C\",\n",
    "    \"Industrial or Construction Debris\":\"2A863E38-E5D0-455F-87CE-2B75DA29F59A\",\n",
    "    \"fragments\":\"ED401B92-DC24-44C0-A52A-34CE831092BF\",\n",
    "    \"Agricultural Waste\":\"36B2AFEB-7A7C-44B5-A790-5E5C73BA144D\",\n",
    "    \"others\":\"4BEC18FC-BC48-45B7-AFDA-6BA96BD80921\",\n",
    "    \"Common Household Items\":\"C68E90CF-6E65-4474-BC60-72E1C8513F55\",\n",
    "    \"plastic\":\"6961D0DB-928C-419E-9985-98EEEAF552C7\",\n",
    "    \"bottles\":\"9780940B-D06C-4AAB-8003-AB914981E87A\",\n",
    "    \"Drinking Bottles\":\"BCF549A8-AECD-4BC9-B9B8-B94A8F3758D5\",\n",
    "    \"Unknown10\":\"BC7BB564-BE04-4B4B-9913-FF69780B93A6\"\n",
    "    } \n",
    "    return switcher.get(label, \"nothing\")"
   ]
  },
  {
   "cell_type": "markdown",
   "execution_count": null,
   "metadata": {},
   "outputs": [],
   "source": [
    "### Trash INSERT"
   ]
  },
  {
   "cell_type": "code",
   "execution_count": null,
   "metadata": {},
   "outputs": [],
   "source": [
    "# Deprecated - trashInsert to take additional latitude and longitude parameters\n",
    "def trashInsert(trashTypeId,cursor,cnxn):\n",
    "    cursor.execute(\"INSERT dbo.Trash (Id,CampaignId,Latitude,Longitude,TrashTypeId,Precision,AI_Version) VALUES (NEWID(),'8D21A132-CF4B-404E-B287-C40A2F12D305','50.797731', '2.179029', ? ,'0.95','0')\",trashTypeId)\n",
    "    cnxn.commit()"
   ]
  },
  {
   "cell_type": "code",
   "execution_count": null,
   "metadata": {},
   "outputs": [],
   "source": [
    "def trashInsert(trashTypeId,lat,long,cursor,cnxn):\n",
    "    \"\"\" trashInsert execute INSERT request to dbo.Trash table\n",
    "    Arguments:\n",
    "        - trashTypeId: the trashTypeId of a Trash from TrashId table\n",
    "        - lat & long: the GPS coordinates of the Trash, extracted from GPX file\n",
    "        - cursor & cnxn: cursor and connection with regard to pyodbc to insert within SQL DB TrashTable\n",
    "    Return: Nothing\n",
    "    \"\"\"\n",
    "\n",
    "    cursor.execute(\"INSERT dbo.Trash (Id,CampaignId,Latitude,Longitude,TrashTypeId,Precision,AI_Version) VALUES (NEWID(),'8D21A132-CF4B-404E-B287-C40A2F12D305',?,?,?,'0.95','0')\",lat,long,trashTypeId)\n",
    "    cnxn.commit()"
   ]
  },
  {
   "cell_type": "code",
   "execution_count": null,
   "metadata": {},
   "outputs": [],
   "source": [
    "# Executing INSERT for all trash detected in json_prediction from vid1-4K4.MP4\n",
    "for frame_to_box in json_prediction['detected_trash']:\n",
    "    print(frame_to_box)\n",
    "    trashLabel = getTrashLabel(frame_to_box)\n",
    "    print(trashLabel)\n",
    "    mapLabel = mapLabel2TrashId(trashLabel)\n",
    "    print(mapLabel)\n",
    "    trashInsert(mapLabel,cursor,cnxn)"
   ]
  },
  {
   "cell_type": "code",
   "execution_count": null,
   "metadata": {},
   "outputs": [],
   "source": [
    "# Init Latitude and Longitude\n",
    "lat = 50.797731\n",
    "long = 2.179029\n",
    "# Insert Trashes\n",
    "for frame_to_box in json_prediction['detected_trash']:\n",
    "    print(frame_to_box)\n",
    "    trashLabel = getTrashLabel(frame_to_box)\n",
    "    print(trashLabel)\n",
    "    mapLabel = mapLabel2TrashId(trashLabel)\n",
    "    print(mapLabel)\n",
    "    trashInsert(mapLabel,lat,long,cursor,cnxn)\n",
    "    # Increment latitude and longitude\n",
    "    lat = lat+0.001\n",
    "    long = long+0.001"
   ]
  },
  {
   "cell_type": "markdown",
   "execution_count": null,
   "metadata": {},
   "outputs": [],
   "source": [
    "# Trash End to End"
   ]
  },
  {
   "cell_type": "code",
   "execution_count": 3,
   "metadata": {},
   "outputs": [],
   "source": [
    "from azure.storage.blob import ContainerClient\n",
    "from azure.storage.blob import BlobClient\n",
    "import json \n",
    "import os\n",
    "import pyodbc\n",
    "import subprocess"
   ]
  },
  {
   "cell_type": "code",
   "execution_count": 4,
   "metadata": {},
   "outputs": [],
   "source": [
    "''' blobContainer create a name_list of blobs within container'''\n",
    "''' params are container name (no full url) & storage conn string'''\n",
    "def blobInContainer(connection_s,container_n):\n",
    "    campaign_container = ContainerClient.from_connection_string(conn_str=connection_s, container_name=container_n)\n",
    "    blob_list = campaign_container.list_blobs()\n",
    "    blob_names_list = []\n",
    "    for blob in blob_list:\n",
    "        blob_names_list.append(blob.name)\n",
    "    return blob_names_list\n",
    "\n",
    "''' blobInfos provides basic information about a blob object'''\n",
    "''' params are blob_name only (no full url) & storage conn string'''\n",
    "def blobInfos(connection_s,container_n,blob_n):\n",
    "    blob_video = BlobClient.from_connection_string(conn_str=connection_s,container_name=container_n, blob_name=blob_n)\n",
    "    blob_video_url = blob_video.url\n",
    "    blob_video_prop = blob_video.get_blob_properties()\n",
    "    blob_video_prop_keys = blob_video_prop.keys()\n",
    "    print(\"blob name:\",blob_n)\n",
    "    print(\"blob URL:\",blob_video_url)\n",
    "    print(\"blob properties:\", blob_video_prop)\n",
    "    print(\"blob properties keys:\", blob_video_prop_keys)\n",
    "\n",
    "\n",
    "''' downloadBlob from Azure to local file system'''\n",
    "''' parameter is a blob client object from azure storage sdk'''\n",
    "def downloadBlob(blobclient):\n",
    "    with open(\"/tmp/\"+blobclient.blob_name, \"wb\") as my_blob_dl:\n",
    "        blob_data = blobclient.download_blob()\n",
    "        blob_data.readinto(my_blob_dl)\n",
    "    print(\"Blob %s downloaded\" %blobclient.blob_name)\n",
    "    print(\"Blob path: /tmp/%s\" %blobclient.blob_name)\n",
    "\n",
    "\n",
    "''' getPrediction function sends curl request to Surfrider AI'''\n",
    "''' video name is the name of a locally downloaded video from Azure'''\n",
    "''' video name is passed as an argument to curl_request script '''\n",
    "''' curl_request script sends actual POST request to Surfrider AI'''\n",
    "def getPrediction(video_name):\n",
    "    curl_request_script = ['./curl_request_param.sh',video_name]\n",
    "    output = []\n",
    "    request_answer = subprocess.Popen(curl_request_script, stdout=subprocess.PIPE)\n",
    "    i = 0\n",
    "    for line in request_answer.stdout:\n",
    "        print(line)\n",
    "        output.append(line)\n",
    "    return output\n",
    "\n",
    "\n",
    "''' jsonPrediction cast a prediction from getPrediction function '''\n",
    "''' from a list prediction to a string then dictionnary with json_loads '''\n",
    "def jsonPrediction(pred):\n",
    "    string_prediction = str(pred[0])[2:-3] #removing 2 x first and 3 last characters of pred\n",
    "    json_prediction = json.loads(string_prediction)\n",
    "    return json_prediction\n",
    "\n",
    "\n",
    "''' getTrashLabel return label from a frame_to_box'''\n",
    "def getTrashLabel(frame_2_box):\n",
    "    return frame_2_box['label']\n",
    "\n",
    "''' mapLabelTrashId is a switch that converts label to TrashId'''\n",
    "''' param is label that comes from AI predictions dictionnary jsonPrediction'''\n",
    "def mapLabel2TrashId(label):\n",
    "    switcher = { \n",
    "    \"Fishing or Hunting\":\"89B44BAA-69AA-4109-891A-128E012E7E07\",\n",
    "    \"Food Packaging\":\"185FEFA2-EEF2-47A8-873E-26032A4BB3C3\",\n",
    "    \"Unknown\":\"BB4DEA69-218A-40CC-A000-2AE17C37152C\",\n",
    "    \"Industrial or Construction Debris\":\"2A863E38-E5D0-455F-87CE-2B75DA29F59A\",\n",
    "    \"fragments\":\"ED401B92-DC24-44C0-A52A-34CE831092BF\",\n",
    "    \"Agricultural Waste\":\"36B2AFEB-7A7C-44B5-A790-5E5C73BA144D\",\n",
    "    \"others\":\"4BEC18FC-BC48-45B7-AFDA-6BA96BD80921\",\n",
    "    \"Common Household Items\":\"C68E90CF-6E65-4474-BC60-72E1C8513F55\",\n",
    "    \"plastic\":\"6961D0DB-928C-419E-9985-98EEEAF552C7\",\n",
    "    \"bottles\":\"9780940B-D06C-4AAB-8003-AB914981E87A\",\n",
    "    \"Drinking Bottles\":\"BCF549A8-AECD-4BC9-B9B8-B94A8F3758D5\",\n",
    "    \"Unknown10\":\"BC7BB564-BE04-4B4B-9913-FF69780B93A6\"\n",
    "    } \n",
    "    return switcher.get(label, \"nothing\")\n",
    "\n",
    "\n",
    "''' trashInsert execute INSERT request to dbo.Trash table'''\n",
    "''' parameter to indsert is a trashTypeId defined in Trash_Type table'''\n",
    "def trashInsert(cursor,cnxn,trashTypeId):\n",
    "    cursor.execute(\"INSERT dbo.Trash (Id,CampaignId,Latitude,Longitude,TrashTypeId,Precision,AI_Version) VALUES (NEWID(),'8D21A132-CF4B-404E-B287-C40A2F12D305','50.797731', '2.179029', ? ,'0.95','0')\",trashTypeId)\n",
    "    cnxn.commit()"
   ]
  },
  {
   "cell_type": "code",
   "execution_count": 5,
   "metadata": {},
   "outputs": [],
   "source": [
    "def main():\n",
    "    \n",
    "    # blob storage connection string\n",
    "    connection_string = os.getenv(\"CONN_STRING\")\n",
    " \n",
    "    # get list of blobs in container campaign0\n",
    "    campaign_container_name = 'campaign0'\n",
    "    #campaign_container_name = 'campaign1'\n",
    "    blobs_campaign0 = blobInContainer(connection_string,campaign_container_name)\n",
    "    print(blobs_campaign0)\n",
    "\n",
    "    # get infos of blob video vid1-4K.MP4,vid1-4K2.MP4,vid1-4K3.mp4,vid1-4K4.mp4,19022020_Adour_6.mp4\n",
    "#    blob_video_name = '19022020_Adour_6.mp4'\n",
    "    blob_video_name = 'vid1-480p.mov'   \n",
    "    blobInfos(connection_string,campaign_container_name,blob_video_name)\n",
    "\n",
    "    # download blob video\n",
    "    blob_video0 = BlobClient.from_connection_string(conn_str=connection_string,container_name=campaign_container_name, blob_name=blob_video_name)\n",
    "    downloadBlob(blob_video0)\n",
    "\n",
    "    # get predictions from AI on vid1-4K4.MP4\n",
    "    prediction = getPrediction(blob_video_name)\n",
    "\n",
    "    # cast prediction to JSON/Dictionnary format\n",
    "    json_prediction = jsonPrediction(prediction)\n",
    "    json_prediction\n",
    "\n",
    "    # SQL connection\n",
    "    server = os.getenv(\"SERVER\")\n",
    "    database = os.getenv(\"DATABASE\")\n",
    "    username = os.getenv(\"USERNAME\")\n",
    "    password = os.getenv(\"SQLPWD\")\n",
    "    driver= '{ODBC Driver 17 for SQL Server}'\n",
    "    cnxn = pyodbc.connect('DRIVER='+driver+';SERVER='+server+';PORT=1433;DATABASE='+database+';UID='+username+';PWD='+ password)\n",
    "    cursor = cnxn.cursor()\n",
    "\n",
    "    # Executing INSERT for all trash detected in json_prediction from vid1-4K4.MP4\n",
    "    for frame_to_box in json_prediction['detected_trash']:\n",
    "        print(frame_to_box)\n",
    "        trashLabel = getTrashLabel(frame_to_box)\n",
    "        print(trashLabel)\n",
    "        mapLabel = mapLabel2TrashId(trashLabel)\n",
    "        print(mapLabel)\n",
    "        trashInsert(cursor,cnxn,mapLabel)\n",
    "    \n",
    "    # Visualize main result within dbo.Trash Table\n",
    "    cursor.execute(\"SELECT * FROM dbo.Trash\")\n",
    "    row = cursor.fetchone()\n",
    "    while row:\n",
    "        print (str(row[0]))\n",
    "        row = cursor.fetchone()"
   ]
  },
  {
   "cell_type": "code",
   "execution_count": 7,
   "metadata": {},
   "outputs": [
    {
     "name": "stdout",
     "output_type": "stream",
     "text": "['G0061732.JPG', 'G0061733.JPG', 'G0061734.JPG', 'G0061735.JPG', 'G0061736.JPG', 'G0061737.JPG', 'G0061738.JPG', 'G0061739.JPG', 'G0061740.JPG', 'G0061741.JPG', 'G0061742.JPG', 'G0061743.JPG', 'G0061744.JPG', 'G0061745.JPG', 'vid1-480p.mov', 'vid1-4K.mp4', 'vid1-4K2.mp4', 'vid1-4K3.mp4', 'vid1-4K4.mp4']\nblob name: vid1-480p.mov\nblob URL: https://surftrashdev01.blob.core.windows.net/campaign0/vid1-480p.mov\nblob properties: {'name': 'vid1-480p.mov', 'container': 'campaign0', 'snapshot': None, 'blob_type': <BlobType.BlockBlob: 'BlockBlob'>, 'metadata': {}, 'encrypted_metadata': None, 'last_modified': datetime.datetime(2020, 4, 1, 11, 56, 52, tzinfo=datetime.timezone.utc), 'etag': '\"0x8D7D633C4D00A3F\"', 'size': 2461994, 'content_range': None, 'append_blob_committed_block_count': None, 'page_blob_sequence_number': None, 'server_encrypted': True, 'copy': {'id': None, 'source': None, 'status': None, 'progress': None, 'completion_time': None, 'status_description': None, 'incremental_copy': None, 'destination_snapshot': None}, 'content_settings': {'content_type': 'video/quicktime', 'content_encoding': None, 'content_language': None, 'content_md5': bytearray(b'\\xe3b\\xfdk\\xe7\\x06h\\xb3\\x83\\xd5q\\x86\\xce\\xf8\\xceg'), 'content_disposition': None, 'cache_control': None}, 'lease': {'status': 'unlocked', 'state': 'available', 'duration': None}, 'blob_tier': 'Hot', 'blob_tier_change_time': None, 'blob_tier_inferred': True, 'deleted': False, 'deleted_time': None, 'remaining_retention_days': None, 'creation_time': datetime.datetime(2020, 4, 1, 11, 56, 52, tzinfo=datetime.timezone.utc), 'archive_status': None, 'encryption_key_sha256': None, 'request_server_encrypted': True}\nblob properties keys: ['name', 'container', 'snapshot', 'blob_type', 'metadata', 'encrypted_metadata', 'last_modified', 'etag', 'size', 'content_range', 'append_blob_committed_block_count', 'page_blob_sequence_number', 'server_encrypted', 'copy', 'content_settings', 'lease', 'blob_tier', 'blob_tier_change_time', 'blob_tier_inferred', 'deleted', 'deleted_time', 'remaining_retention_days', 'creation_time', 'archive_status', 'encryption_key_sha256', 'request_server_encrypted']\nBlob vid1-480p.mov downloaded\nBlob path: /tmp/vid1-480p.mov\nb'{\"detected_trash\":[{\"frame_to_box\":{\"2\":[0.43,0.44,0.49,0.5]},\"id\":0,\"label\":\"fragments\"},{\"frame_to_box\":{\"3\":[0.4,0.44,0.46,0.49]},\"id\":1,\"label\":\"fragments\"},{\"frame_to_box\":{\"4\":[0.32,0.45,0.38,0.46]},\"id\":2,\"label\":\"others\"},{\"frame_to_box\":{\"4\":[0.32,0.45,0.38,0.46]},\"id\":3,\"label\":\"bottles\"},{\"frame_to_box\":{\"9\":[0.25,0.43,0.29,0.49]},\"id\":4,\"label\":\"fragments\"},{\"frame_to_box\":{\"10\":[0.22,0.41,0.26,0.48]},\"id\":5,\"label\":\"fragments\"},{\"frame_to_box\":{\"11\":[0.2,0.43,0.23,0.48]},\"id\":6,\"label\":\"fragments\"},{\"frame_to_box\":{\"12\":[0.18,0.42,0.21,0.48]},\"id\":7,\"label\":\"fragments\"},{\"frame_to_box\":{\"20\":[0.18,0.12,0.19,0.14]},\"id\":8,\"label\":\"fragments\"},{\"frame_to_box\":{\"22\":[0.53,0.44,0.59,0.47]},\"id\":9,\"label\":\"fragments\"},{\"frame_to_box\":{\"22\":[0.53,0.44,0.59,0.47]},\"id\":10,\"label\":\"bottles\"},{\"frame_to_box\":{\"23\":[1.14,0.51,1.15,0.54]},\"id\":11,\"label\":\"fragments\"},{\"frame_to_box\":{\"24\":[0.49,0.44,0.55,0.46]},\"id\":12,\"label\":\"bottles\"},{\"frame_to_box\":{\"24\":[0.49,0.44,0.56,0.46]},\"id\":13,\"label\":\"others\"}],\"fps\":4,\"video_id\":\"vid1-480p.mov\",\"video_length\":25}\\n'\n{'frame_to_box': {'2': [0.43, 0.44, 0.49, 0.5]}, 'id': 0, 'label': 'fragments'}\nfragments\nED401B92-DC24-44C0-A52A-34CE831092BF\n{'frame_to_box': {'3': [0.4, 0.44, 0.46, 0.49]}, 'id': 1, 'label': 'fragments'}\nfragments\nED401B92-DC24-44C0-A52A-34CE831092BF\n{'frame_to_box': {'4': [0.32, 0.45, 0.38, 0.46]}, 'id': 2, 'label': 'others'}\nothers\n4BEC18FC-BC48-45B7-AFDA-6BA96BD80921\n{'frame_to_box': {'4': [0.32, 0.45, 0.38, 0.46]}, 'id': 3, 'label': 'bottles'}\nbottles\n9780940B-D06C-4AAB-8003-AB914981E87A\n{'frame_to_box': {'9': [0.25, 0.43, 0.29, 0.49]}, 'id': 4, 'label': 'fragments'}\nfragments\nED401B92-DC24-44C0-A52A-34CE831092BF\n{'frame_to_box': {'10': [0.22, 0.41, 0.26, 0.48]}, 'id': 5, 'label': 'fragments'}\nfragments\nED401B92-DC24-44C0-A52A-34CE831092BF\n{'frame_to_box': {'11': [0.2, 0.43, 0.23, 0.48]}, 'id': 6, 'label': 'fragments'}\nfragments\nED401B92-DC24-44C0-A52A-34CE831092BF\n{'frame_to_box': {'12': [0.18, 0.42, 0.21, 0.48]}, 'id': 7, 'label': 'fragments'}\nfragments\nED401B92-DC24-44C0-A52A-34CE831092BF\n{'frame_to_box': {'20': [0.18, 0.12, 0.19, 0.14]}, 'id': 8, 'label': 'fragments'}\nfragments\nED401B92-DC24-44C0-A52A-34CE831092BF\n{'frame_to_box': {'22': [0.53, 0.44, 0.59, 0.47]}, 'id': 9, 'label': 'fragments'}\nfragments\nED401B92-DC24-44C0-A52A-34CE831092BF\n{'frame_to_box': {'22': [0.53, 0.44, 0.59, 0.47]}, 'id': 10, 'label': 'bottles'}\nbottles\n9780940B-D06C-4AAB-8003-AB914981E87A\n{'frame_to_box': {'23': [1.14, 0.51, 1.15, 0.54]}, 'id': 11, 'label': 'fragments'}\nfragments\nED401B92-DC24-44C0-A52A-34CE831092BF\n{'frame_to_box': {'24': [0.49, 0.44, 0.55, 0.46]}, 'id': 12, 'label': 'bottles'}\nbottles\n9780940B-D06C-4AAB-8003-AB914981E87A\n{'frame_to_box': {'24': [0.49, 0.44, 0.56, 0.46]}, 'id': 13, 'label': 'others'}\nothers\n4BEC18FC-BC48-45B7-AFDA-6BA96BD80921\nD3FFFEAE-CBC7-4B4C-B6FD-097E9C0699EE\nEAF8EECA-78BE-4B41-BE19-0B93E9ABECEC\n4C3B86D4-771D-41FF-85CC-0D23E345F340\n750B8F30-46F7-4AE7-A1DE-21603E197CFC\nA2AC0C2C-B1FC-4424-A0C1-22BBAE63A683\n98929D60-A8D6-45CA-8035-27C06F04E065\nE1F17E87-3C22-4B69-A806-2D9AA07AB21E\nCB1C6288-7DFD-4841-9184-30BA824BA009\n45DB57B0-8ED8-4A98-B574-30BF1151FD00\n12A22802-2E50-4F65-AA61-32029A61766A\n111F5363-7983-4376-8716-323BD6D8C4D7\n8160B338-62B5-4A6C-8418-41720A3D5FAA\n76BDEE21-4C25-4E08-A301-41B7E1A5CDF9\n05188CD9-C886-46E2-8A0F-42F61630381C\n31B114E5-72FD-49E7-8079-494921AF8B4B\n5665DE70-AD6B-4FA7-99D4-51133E8E97C9\nC8183FA8-F751-453E-B97A-5265C3C18631\n4471960F-7BD1-429A-AA01-55B093B30227\n74E70D67-7F7B-4D91-AA9C-5B4D9D6FD981\n0F5F0A58-65CE-4536-A905-635268392314\nF2C59CCD-BCB2-42D4-9D33-76BE3CD47D60\nE2B05522-6FCC-4206-B08E-786B4670C568\n5D02FD1C-4ED9-44D6-80E6-7AB78F1E0C12\nEE10A6EC-D6B2-4FA5-BDDC-7E4F61571BF7\nDB1C343E-4595-442E-8B93-7F7997B3EFF8\n9184190C-EDC6-49D4-B25E-981EC1FE37B8\n2293DC1E-FC45-49E9-A834-994592D27F77\n63498EB3-27DC-4C84-B45F-99F6FA89977C\n846592C9-CE28-4FCA-B5F5-9D1D4CD4D70C\n54EC501E-9CB7-48BB-9CF2-9F737CF02DE3\n12527108-5885-4D33-A53C-A11EB5C8674E\nD6942222-9805-434A-8284-A3D6BA214481\n96157430-E993-442A-8930-B65C2B71877C\nE835FFFF-37EF-4D99-AB7A-BC448287756A\n64BC94D5-E0FF-4721-8908-C611133C8AD6\n9CCED542-2F70-4D1E-9148-D1E2ECC5C3BF\n0DD07CA2-28E2-4EB2-A38B-E990DF06D255\nE2EB71D2-25EB-4581-B7BB-EB88DEB37E83\n389ED0B8-BD95-4476-8B77-F16959DAEE3E\n1AA357AE-EC63-4CD8-AB2E-F2AC7194E24D\n3383BF78-3453-43C0-A963-F5B623634BDD\n890C0A9E-E01D-41DE-AA8A-FFC753615C4E\n"
    }
   ],
   "source": [
    "# Execute main function\n",
    "if __name__ == '__main__':\n",
    "    main()"
   ]
  },
  {
   "cell_type": "markdown",
   "execution_count": null,
   "metadata": {},
   "outputs": [],
   "source": [
    "## SQL Ops - Optional check"
   ]
  },
  {
   "cell_type": "code",
   "execution_count": null,
   "metadata": {},
   "outputs": [],
   "source": [
    "# SQL Prequesite\n",
    "server = os.getenv(\"SERVER\")\n",
    "database = os.getenv(\"DATABASE\")\n",
    "username = os.getenv(\"USERNAME\")\n",
    "password = os.getenv(\"SQLPWD\")\n",
    "driver= '{ODBC Driver 17 for SQL Server}'\n",
    "cnxn = pyodbc.connect('DRIVER='+driver+';SERVER='+server+';PORT=1433;DATABASE='+database+';UID='+username+';PWD='+ password)\n",
    "cursor = cnxn.cursor()"
   ]
  },
  {
   "cell_type": "code",
   "execution_count": null,
   "metadata": {},
   "outputs": [],
   "source": [
    "# SELECT all record from dbo.Trash\n",
    "cursor.execute(\"SELECT * FROM dbo.Trash\")\n",
    "row = cursor.fetchone()\n",
    "while row:\n",
    "    for i in range(0,5):\n",
    "        print (str(row[i]))\n",
    "    row = cursor.fetchone()"
   ]
  },
  {
   "cell_type": "code",
   "execution_count": null,
   "metadata": {},
   "outputs": [],
   "source": [
    "# DELETE ALL RECORD from Trash table\n",
    "cursor.execute(\"DELETE FROM dbo.Trash\")\n",
    "cnxn.commit()"
   ]
  },
  {
   "cell_type": "markdown",
   "execution_count": null,
   "metadata": {},
   "outputs": [],
   "source": [
    "# PostGre SQL Operations"
   ]
  },
  {
   "cell_type": "code",
   "execution_count": 157,
   "metadata": {},
   "outputs": [
    {
     "name": "stdout",
     "output_type": "stream",
     "text": "Connection established\n"
    }
   ],
   "source": [
    "import os\n",
    "import psycopg2\n",
    "\n",
    "# Update connection string information from env variables\n",
    "pgserver = os.getenv(\"PGSERVER\")\n",
    "pgdatabase = os.getenv(\"PGDATABASE\")\n",
    "pgusername = os.getenv(\"PGUSERNAME\")\n",
    "pgpassword = os.getenv(\"PGPWD\")\n",
    "sslmode = \"require\"\n",
    "\n",
    "# Construct connection string with psycopg2\n",
    "conn_string = \"host={0} user={1} dbname={2} password={3} sslmode={4}\".format(pgserver, pgusername, pgdatabase, pgpassword, sslmode)\n",
    "conn = psycopg2.connect(conn_string) \n",
    "print(\"Connection established\")\n",
    "\n",
    "cursor = conn.cursor()"
   ]
  },
  {
   "cell_type": "code",
   "execution_count": null,
   "metadata": {},
   "outputs": [],
   "source": [
    "# Get first x 10 records of PostGre public.Trash table\n",
    "cursor.execute(\"SELECT * FROM public.Trash\")\n",
    "row = cursor.fetchone()\n",
    "\n",
    "for k in range(0,10):\n",
    "    for i in range(0,5):\n",
    "        print (str(row[i]))\n",
    "    row = cursor.fetchone()"
   ]
  },
  {
   "cell_type": "code",
   "execution_count": 177,
   "metadata": {},
   "outputs": [],
   "source": [
    "# INSERT REQUEST: no paramater\n",
    "def trashInsert(cursor,connexion):\n",
    "    id = cursor.execute(\"INSERT INTO public.trash (id, id_ref_campaign_fk,the_geom, elevation, id_ref_trash_type_fk,brand_type ) VALUES (DEFAULT, 'fb367e0e-9b56-4418-9b80-5acd5c239754','POINT (468232.3142275742 6221584.069506371)','610.109375',1,'perrier') RETURNING id;\")\n",
    "    connexion.commit()"
   ]
  },
  {
   "cell_type": "code",
   "execution_count": 178,
   "metadata": {},
   "outputs": [],
   "source": [
    "# Testing simple Trash Insert in PostGre\n",
    "trashInsert(cursor,conn)"
   ]
  },
  {
   "cell_type": "code",
   "execution_count": 168,
   "metadata": {},
   "outputs": [],
   "source": [
    "# INSERT REQUEST: point parameter\n",
    "def trashInsert(the_geom,cursor,connexion):\n",
    "    point = 'POINT(' + str(the_geom.coords.xy[0][0]) + ' ' + str(the_geom.coords.xy[1][0]) + ')'\n",
    "    cursor.execute(\"INSERT INTO public.trash (id, id_ref_campaign_fk,the_geom, elevation, id_ref_trash_type_fk,brand_type ) VALUES (DEFAULT, 'fb367e0e-9b56-4418-9b80-5acd5c239754',%s,'610.109375',1,%s) RETURNING id;\", (point,'oasis'))\n",
    "    connexion.commit()"
   ]
  },
  {
   "cell_type": "code",
   "execution_count": 169,
   "metadata": {},
   "outputs": [],
   "source": [
    "# Testing Trash Insert with shapely python Point in PostGre\n",
    "from shapely.geometry import Point\n",
    "geopoint = Point(0.0,1.0)\n",
    "trashInsert(geopoint,cursor,conn)"
   ]
  }
 ]
}