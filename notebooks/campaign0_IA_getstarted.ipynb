{
 "nbformat": 4,
 "nbformat_minor": 2,
 "metadata": {
  "language_info": {
   "name": "python",
   "codemirror_mode": {
    "name": "ipython",
    "version": 3
   },
   "version": "3.6.9-final"
  },
  "orig_nbformat": 2,
  "file_extension": ".py",
  "mimetype": "text/x-python",
  "name": "python",
  "npconvert_exporter": "python",
  "pygments_lexer": "ipython3",
  "version": 3,
  "kernelspec": {
   "name": "python36964bitcondacadf76f2c1054d4581372baf88a91024",
   "display_name": "Python 3.6.9 64-bit (conda)"
  }
 },
 "cells": [
  {
   "cell_type": "markdown",
   "metadata": {},
   "source": [
    "### azure pre-requesite"
   ]
  },
  {
   "cell_type": "code",
   "execution_count": 32,
   "metadata": {},
   "outputs": [],
   "source": [
    "# get connection_string\n",
    "import os\n",
    "connection_string = os.getenv(\"CONN_STRING\")"
   ]
  },
  {
   "cell_type": "code",
   "execution_count": 36,
   "metadata": {},
   "outputs": [
    {
     "name": "stdout",
     "output_type": "stream",
     "text": "['G0061732.JPG', 'G0061733.JPG', 'G0061734.JPG', 'G0061735.JPG', 'G0061736.JPG', 'G0061737.JPG', 'G0061738.JPG', 'G0061739.JPG', 'G0061740.JPG', 'G0061741.JPG', 'G0061742.JPG', 'G0061743.JPG', 'G0061744.JPG', 'G0061745.JPG', 'vid1-4K.MP4', 'vid1-4K2.MP4', 'vid1-4K3.mp4', 'vid1-4K4.mp4']\nblob name: vid1-4K.MP4\nblob URL: https://surftrashdev01.blob.core.windows.net/campaign0/vid1-4K.MP4\nblob properties: {'name': 'vid1-4K.MP4', 'container': 'campaign0', 'snapshot': None, 'blob_type': <BlobType.BlockBlob: 'BlockBlob'>, 'metadata': {}, 'encrypted_metadata': None, 'last_modified': datetime.datetime(2020, 2, 10, 9, 45, 9, tzinfo=datetime.timezone.utc), 'etag': '\"0x8D7AE0DEAE9DA7A\"', 'size': 569862387, 'content_range': None, 'append_blob_committed_block_count': None, 'page_blob_sequence_number': None, 'server_encrypted': True, 'copy': {'id': None, 'source': None, 'status': None, 'progress': None, 'completion_time': None, 'status_description': None, 'incremental_copy': None, 'destination_snapshot': None}, 'content_settings': {'content_type': 'video/mp4', 'content_encoding': None, 'content_language': None, 'content_md5': None, 'content_disposition': None, 'cache_control': None}, 'lease': {'status': 'unlocked', 'state': 'available', 'duration': None}, 'blob_tier': 'Hot', 'blob_tier_change_time': None, 'blob_tier_inferred': True, 'deleted': False, 'deleted_time': None, 'remaining_retention_days': None, 'creation_time': datetime.datetime(2020, 2, 10, 9, 45, 9, tzinfo=datetime.timezone.utc), 'archive_status': None, 'encryption_key_sha256': None, 'request_server_encrypted': True}\nblob properties keys: ['name', 'container', 'snapshot', 'blob_type', 'metadata', 'encrypted_metadata', 'last_modified', 'etag', 'size', 'content_range', 'append_blob_committed_block_count', 'page_blob_sequence_number', 'server_encrypted', 'copy', 'content_settings', 'lease', 'blob_tier', 'blob_tier_change_time', 'blob_tier_inferred', 'deleted', 'deleted_time', 'remaining_retention_days', 'creation_time', 'archive_status', 'encryption_key_sha256', 'request_server_encrypted']\n"
    }
   ],
   "source": [
    "# import container client and enumerate blob within container\n",
    "from azure.storage.blob import ContainerClient\n",
    "\n",
    "def blobInContainer(container,c_string):\n",
    "    campaign0_container = ContainerClient.from_connection_string(conn_str=c_string, container_name=container)\n",
    "    blob_list = campaign0_container.list_blobs()\n",
    "    blob_names_list = []\n",
    "    for blob in blob_list:\n",
    "        blob_names_list.append(blob.name)\n",
    "    return blob_names_list\n",
    "\n",
    "blobs_campaign0 = blobInContainer('campaign0',connection_string)\n",
    "print(blobs_campaign0)\n",
    "\n",
    "# Get Blob Video info\n",
    "from azure.storage.blob import BlobClient\n",
    "\n",
    "def blobInfos(blob_name,c_string):\n",
    "    blob_video = BlobClient.from_connection_string(conn_str=c_string,container_name=\"campaign0\", blob_name=blob_video_name)\n",
    "    blob_video_url = blob_video.url\n",
    "    blob_video_prop = blob_video.get_blob_properties()\n",
    "    blob_video_prop_keys = blob_video_prop.keys()\n",
    "    print(\"blob name:\",blob_video_name)\n",
    "    print(\"blob URL:\",blob_video_url)\n",
    "    print(\"blob properties:\", blob_video_prop)\n",
    "    print(\"blob properties keys:\", blob_video_prop_keys)\n",
    "\n",
    "blob_video_name = blobs_campaign0[14] \n",
    "blobInfos(blob_video_name,connection_string)"
   ]
  },
  {
   "cell_type": "code",
   "execution_count": 37,
   "metadata": {},
   "outputs": [
    {
     "name": "stdout",
     "output_type": "stream",
     "text": "Blob vid1-4K4.mp4 downloaded\nBlob path: /tmp/vid1-4K4.mp4\n"
    }
   ],
   "source": [
    "from azure.storage.blob import BlobClient\n",
    "blob_video0 = BlobClient.from_connection_string(conn_str=connection_string,container_name=\"campaign0\", blob_name=\"vid1-4K4.mp4\")\n",
    "\n",
    "''' function to download blob from Azure to local file system'''\n",
    "''' parameter is a blob client object from azure storage sdk'''\n",
    "def downloadBlob(blobclient):\n",
    "    with open(\"/tmp/\"+blobclient.blob_name, \"wb\") as my_blob_dl:\n",
    "        blob_data = blobclient.download_blob()\n",
    "        blob_data.readinto(my_blob_dl)\n",
    "    print(\"Blob %s downloaded\" %blobclient.blob_name)\n",
    "    print(\"Blob path: /tmp/%s\" %blobclient.blob_name)\n",
    "\n",
    "downloadBlob(blob_video0)"
   ]
  },
  {
   "cell_type": "markdown",
   "execution_count": null,
   "metadata": {},
   "outputs": [],
   "source": [
    "### REST requests"
   ]
  },
  {
   "cell_type": "code",
   "execution_count": 39,
   "metadata": {},
   "outputs": [],
   "source": [
    "#https://stackoverflow.com/questions/3777301/how-to-call-a-shell-script-from-python-code\n",
    "#https://stackoverflow.com/questions/325463/launch-a-shell-command-with-in-a-python-script-wait-for-the-termination-and-ret\n",
    "\n",
    "import subprocess\n",
    "\n",
    "''' getPrediction function sends curl request to Surfrider AI'''\n",
    "''' video name is the name of a locally downloaded video from Azure'''\n",
    "''' video name is passed as an argument to curl_request script '''\n",
    "''' curl_request script sends actual POST request to Surfrider AI'''\n",
    "def getPrediction(video_name):\n",
    "    curl_request_script = ['./curl_request.sh','--arg',video_name]\n",
    "    output = []\n",
    "    request_answer = subprocess.Popen(curl_request_script, stdout=subprocess.PIPE)\n",
    "    i = 0\n",
    "    for line in request_answer.stdout:\n",
    "        print(line)\n",
    "        output.append(line)\n",
    "    return output"
   ]
  },
  {
   "cell_type": "code",
   "execution_count": 40,
   "metadata": {},
   "outputs": [
    {
     "name": "stdout",
     "output_type": "stream",
     "text": "b'{\"detected_trash\":[{\"frame_to_box\":{\"2\":[0.45,0.44,0.5,0.5]},\"id\":0,\"label\":\"fragments\"},{\"frame_to_box\":{\"3\":[0.41,0.45,0.47,0.49],\"4\":[0.39,0.44,0.44,0.49]},\"id\":1,\"label\":\"fragments\"},{\"frame_to_box\":{\"8\":[0.28,0.43,0.32,0.48]},\"id\":2,\"label\":\"fragments\"},{\"frame_to_box\":{\"8\":[0.18,0.28,0.19,0.32]},\"id\":3,\"label\":\"fragments\"},{\"frame_to_box\":{\"9\":[0.26,0.43,0.29,0.49]},\"id\":4,\"label\":\"fragments\"},{\"frame_to_box\":{\"10\":[0.23,0.42,0.27,0.48]},\"id\":5,\"label\":\"fragments\"},{\"frame_to_box\":{\"11\":[0.21,0.43,0.24,0.48]},\"id\":6,\"label\":\"fragments\"},{\"frame_to_box\":{\"12\":[0.19,0.42,0.21,0.47]},\"id\":7,\"label\":\"fragments\"},{\"frame_to_box\":{\"13\":[0.16,0.42,0.19,0.47]},\"id\":8,\"label\":\"fragments\"},{\"frame_to_box\":{\"13\":[0.17,0.42,0.19,0.45]},\"id\":9,\"label\":\"fragments\"},{\"frame_to_box\":{\"16\":[0.72,0.45,0.76,0.49]},\"id\":10,\"label\":\"fragments\"},{\"frame_to_box\":{\"21\":[0.57,0.44,0.62,0.47],\"22\":[0.56,0.44,0.6,0.47]},\"id\":11,\"label\":\"fragments\"},{\"frame_to_box\":{\"22\":[0.56,0.44,0.6,0.47]},\"id\":12,\"label\":\"others\"},{\"frame_to_box\":{\"22\":[0.56,0.45,0.6,0.47]},\"id\":13,\"label\":\"bottles\"}],\"fps\":4,\"video_id\":\"vid1-4K4.MP4\",\"video_length\":25}\\n'\n"
    }
   ],
   "source": [
    "# get predictions from AI on vid1-4K4.MP4\n",
    "prediction = getPrediction('vid1-4K4.MP4')"
   ]
  },
  {
   "cell_type": "markdown",
   "execution_count": null,
   "metadata": {},
   "outputs": [],
   "source": [
    "### JSON Decode"
   ]
  },
  {
   "cell_type": "code",
   "execution_count": 41,
   "metadata": {},
   "outputs": [],
   "source": [
    "import json\n",
    "\n",
    "''' jsonPrediction cast a prediction from getPrediction function '''\n",
    "''' and cast the list prediction as a string then dictionnary with json_loads '''\n",
    "def jsonPrediction(pred):\n",
    "    string_prediction = str(pred[0])[2:-3] #removing 2 x first and 3 last characters of pred\n",
    "    json_prediction = json.loads(string_prediction)\n",
    "    return json_prediction"
   ]
  },
  {
   "cell_type": "code",
   "execution_count": 42,
   "metadata": {},
   "outputs": [
    {
     "data": {
      "text/plain": "{'detected_trash': [{'frame_to_box': {'2': [0.45, 0.44, 0.5, 0.5]},\n   'id': 0,\n   'label': 'fragments'},\n  {'frame_to_box': {'3': [0.41, 0.45, 0.47, 0.49],\n    '4': [0.39, 0.44, 0.44, 0.49]},\n   'id': 1,\n   'label': 'fragments'},\n  {'frame_to_box': {'8': [0.28, 0.43, 0.32, 0.48]},\n   'id': 2,\n   'label': 'fragments'},\n  {'frame_to_box': {'8': [0.18, 0.28, 0.19, 0.32]},\n   'id': 3,\n   'label': 'fragments'},\n  {'frame_to_box': {'9': [0.26, 0.43, 0.29, 0.49]},\n   'id': 4,\n   'label': 'fragments'},\n  {'frame_to_box': {'10': [0.23, 0.42, 0.27, 0.48]},\n   'id': 5,\n   'label': 'fragments'},\n  {'frame_to_box': {'11': [0.21, 0.43, 0.24, 0.48]},\n   'id': 6,\n   'label': 'fragments'},\n  {'frame_to_box': {'12': [0.19, 0.42, 0.21, 0.47]},\n   'id': 7,\n   'label': 'fragments'},\n  {'frame_to_box': {'13': [0.16, 0.42, 0.19, 0.47]},\n   'id': 8,\n   'label': 'fragments'},\n  {'frame_to_box': {'13': [0.17, 0.42, 0.19, 0.45]},\n   'id': 9,\n   'label': 'fragments'},\n  {'frame_to_box': {'16': [0.72, 0.45, 0.76, 0.49]},\n   'id': 10,\n   'label': 'fragments'},\n  {'frame_to_box': {'21': [0.57, 0.44, 0.62, 0.47],\n    '22': [0.56, 0.44, 0.6, 0.47]},\n   'id': 11,\n   'label': 'fragments'},\n  {'frame_to_box': {'22': [0.56, 0.44, 0.6, 0.47]},\n   'id': 12,\n   'label': 'others'},\n  {'frame_to_box': {'22': [0.56, 0.45, 0.6, 0.47]},\n   'id': 13,\n   'label': 'bottles'}],\n 'fps': 4,\n 'video_id': 'vid1-4K4.MP4',\n 'video_length': 25}"
     },
     "execution_count": 42,
     "metadata": {},
     "output_type": "execute_result"
    }
   ],
   "source": [
    "json_prediction = jsonPrediction(prediction)\n",
    "json_prediction"
   ]
  },
  {
   "cell_type": "code",
   "execution_count": 43,
   "metadata": {},
   "outputs": [
    {
     "name": "stdout",
     "output_type": "stream",
     "text": "{'frame_to_box': {'2': [0.45, 0.44, 0.5, 0.5]}, 'id': 0, 'label': 'fragments'}\nfragments\n{'frame_to_box': {'3': [0.41, 0.45, 0.47, 0.49], '4': [0.39, 0.44, 0.44, 0.49]}, 'id': 1, 'label': 'fragments'}\nfragments\n{'frame_to_box': {'8': [0.28, 0.43, 0.32, 0.48]}, 'id': 2, 'label': 'fragments'}\nfragments\n{'frame_to_box': {'8': [0.18, 0.28, 0.19, 0.32]}, 'id': 3, 'label': 'fragments'}\nfragments\n{'frame_to_box': {'9': [0.26, 0.43, 0.29, 0.49]}, 'id': 4, 'label': 'fragments'}\nfragments\n{'frame_to_box': {'10': [0.23, 0.42, 0.27, 0.48]}, 'id': 5, 'label': 'fragments'}\nfragments\n{'frame_to_box': {'11': [0.21, 0.43, 0.24, 0.48]}, 'id': 6, 'label': 'fragments'}\nfragments\n{'frame_to_box': {'12': [0.19, 0.42, 0.21, 0.47]}, 'id': 7, 'label': 'fragments'}\nfragments\n{'frame_to_box': {'13': [0.16, 0.42, 0.19, 0.47]}, 'id': 8, 'label': 'fragments'}\nfragments\n{'frame_to_box': {'13': [0.17, 0.42, 0.19, 0.45]}, 'id': 9, 'label': 'fragments'}\nfragments\n{'frame_to_box': {'16': [0.72, 0.45, 0.76, 0.49]}, 'id': 10, 'label': 'fragments'}\nfragments\n{'frame_to_box': {'21': [0.57, 0.44, 0.62, 0.47], '22': [0.56, 0.44, 0.6, 0.47]}, 'id': 11, 'label': 'fragments'}\nfragments\n{'frame_to_box': {'22': [0.56, 0.44, 0.6, 0.47]}, 'id': 12, 'label': 'others'}\nothers\n{'frame_to_box': {'22': [0.56, 0.45, 0.6, 0.47]}, 'id': 13, 'label': 'bottles'}\nbottles\n"
    }
   ],
   "source": [
    "for frame_to_box in json_prediction['detected_trash']:\n",
    "    print(frame_to_box)\n",
    "    print(frame_to_box['label'])"
   ]
  },
  {
   "cell_type": "code",
   "execution_count": 44,
   "metadata": {},
   "outputs": [
    {
     "data": {
      "text/plain": "'bottles'"
     },
     "execution_count": 44,
     "metadata": {},
     "output_type": "execute_result"
    }
   ],
   "source": [
    "''' getTrashLabel return label from a frame_to_box'''\n",
    "def getTrashLabel(frame_2_box):\n",
    "    return frame_to_box['label']\n",
    "\n",
    "test_f2b = {'frame_to_box': {'2': [0.45, 0.44, 0.5, 0.5]}, 'id': 0, 'label': 'fragments'}\n",
    "getTrashLabel(test_f2b['frame_to_box'])"
   ]
  },
  {
   "cell_type": "markdown",
   "metadata": {},
   "source": [
    "### requests - skip for now"
   ]
  },
  {
   "cell_type": "code",
   "execution_count": null,
   "metadata": {},
   "outputs": [],
   "source": [
    "# Make first GET Request using requests module\n",
    "import requests\n",
    "r_get = requests.get('https://github.com/timeline.json')\n",
    "print(r_get.text)\n",
    "# Make first POST Request using requests module\n",
    "r_post = requests.post(\"http://httpbin.org/post\")\n",
    "print(r_post.text) # response in text format\n",
    "print(r_post.json()) # response is json formated\n",
    "\n",
    "# Video POST request example\n",
    "desktop = '/Users/clement/Desktop/'\n",
    "video = 'vid1-4K.MP4'\n",
    "video_path = os.path.join(desktop,video)\n",
    "url = 'http://aiapisurfrider.northeurope.cloudapp.azure.com:5000'\n",
    "myfile = {'file': open(video_path ,'rb')}\n",
    "#myairequest = requests.post(url, files = myfile)\n",
    "\n",
    "# Image POST request example\n",
    "desktop = '/Users/clement/Desktop/'\n",
    "img = 'G0061735.JPG'\n",
    "img_path = os.path.join(desktop,img)\n",
    "url = 'http://aiapisurfrider.northeurope.cloudapp.azure.com:5000'\n",
    "myfile = {'file': open(img_path ,'rb')}\n",
    "myairequest = requests.post(url, files = myfile)"
   ]
  },
  {
   "cell_type": "markdown",
   "execution_count": null,
   "metadata": {},
   "outputs": [],
   "source": [
    "### SQL Operations"
   ]
  },
  {
   "cell_type": "code",
   "execution_count": 45,
   "metadata": {},
   "outputs": [],
   "source": [
    "# import sql odbc driver and connect to SQL DB\n",
    "import os\n",
    "import pyodbc\n",
    "server = os.getenv(\"SERVER\")\n",
    "database = os.getenv(\"DATABASE\")\n",
    "username = os.getenv(\"USERNAME\")\n",
    "password = os.getenv(\"PWD\")\n",
    "driver= '{ODBC Driver 17 for SQL Server}'\n",
    "cnxn = pyodbc.connect('DRIVER='+driver+';SERVER='+server+';PORT=1433;DATABASE='+database+';UID='+username+';PWD='+ password)\n",
    "cursor = cnxn.cursor()"
   ]
  },
  {
   "cell_type": "code",
   "execution_count": 46,
   "metadata": {},
   "outputs": [
    {
     "name": "stdout",
     "output_type": "stream",
     "text": "89B44BAA-69AA-4109-891A-128E012E7E07\nFishing or Hunting\n185FEFA2-EEF2-47A8-873E-26032A4BB3C3\nFood Packaging\nBB4DEA69-218A-40CC-A000-2AE17C37152C\nUnknown\n2A863E38-E5D0-455F-87CE-2B75DA29F59A\nIndustrial or Construction Debris\nED401B92-DC24-44C0-A52A-34CE831092BF\nFragments\n36B2AFEB-7A7C-44B5-A790-5E5C73BA144D\nAgricultural Waste\n4BEC18FC-BC48-45B7-AFDA-6BA96BD80921\nOthers\nC68E90CF-6E65-4474-BC60-72E1C8513F55\nCommon Household Items\n6961D0DB-928C-419E-9985-98EEEAF552C7\nplastic\n9780940B-D06C-4AAB-8003-AB914981E87A\nBottles\nBCF549A8-AECD-4BC9-B9B8-B94A8F3758D5\nDrinking Bottles\nBC7BB564-BE04-4B4B-9913-FF69780B93A6\nUnknown10\n"
    }
   ],
   "source": [
    "# Sample Query on dbo.Trash_Type\n",
    "cursor.execute(\"SELECT * FROM dbo.Trash_Type\")\n",
    "row = cursor.fetchone()\n",
    "while row:\n",
    "    print (str(row[0]))\n",
    "    print (str(row[1]))\n",
    "    row = cursor.fetchone()"
   ]
  },
  {
   "cell_type": "code",
   "execution_count": 47,
   "metadata": {},
   "outputs": [],
   "source": [
    "def mapLabel2TrashId(label):\n",
    "    switcher = { \n",
    "    \"Fishing or Hunting\":\"89B44BAA-69AA-4109-891A-128E012E7E07\",\n",
    "    \"Food Packaging\":\"185FEFA2-EEF2-47A8-873E-26032A4BB3C3\",\n",
    "    \"Unknown\":\"BB4DEA69-218A-40CC-A000-2AE17C37152C\",\n",
    "    \"Industrial or Construction Debris\":\"2A863E38-E5D0-455F-87CE-2B75DA29F59A\",\n",
    "    \"fragments\":\"ED401B92-DC24-44C0-A52A-34CE831092BF\",\n",
    "    \"Agricultural Waste\":\"36B2AFEB-7A7C-44B5-A790-5E5C73BA144D\",\n",
    "    \"others\":\"4BEC18FC-BC48-45B7-AFDA-6BA96BD80921\",\n",
    "    \"Common Household Items\":\"C68E90CF-6E65-4474-BC60-72E1C8513F55\",\n",
    "    \"plastic\":\"6961D0DB-928C-419E-9985-98EEEAF552C7\",\n",
    "    \"bottles\":\"9780940B-D06C-4AAB-8003-AB914981E87A\",\n",
    "    \"Drinking Bottles\":\"BCF549A8-AECD-4BC9-B9B8-B94A8F3758D5\",\n",
    "    \"Unknown10\":\"BC7BB564-BE04-4B4B-9913-FF69780B93A6\"\n",
    "    } \n",
    "    return switcher.get(label, \"nothing\")"
   ]
  },
  {
   "cell_type": "markdown",
   "execution_count": null,
   "metadata": {},
   "outputs": [],
   "source": [
    "### Trash INSERT"
   ]
  },
  {
   "cell_type": "code",
   "execution_count": 48,
   "metadata": {},
   "outputs": [],
   "source": [
    "''' trashInsert execute INSERT request to dbo.Trash table'''\n",
    "''' parameter to indsert is a trashTypeId defined in Trash_Type table'''\n",
    "def trashInsert(trashTypeId,cursor,cnxn):\n",
    "    cursor.execute(\"INSERT dbo.Trash (Id,CampaignId,Latitude,Longitude,TrashTypeId,Precision,AI_Version) VALUES (NEWID(),'8D21A132-CF4B-404E-B287-C40A2F12D305','50.797731', '2.179029', ? ,'0.95','0')\",trashTypeId)\n",
    "    cnxn.commit()"
   ]
  },
  {
   "cell_type": "code",
   "execution_count": 50,
   "metadata": {},
   "outputs": [
    {
     "name": "stdout",
     "output_type": "stream",
     "text": "{'frame_to_box': {'2': [0.45, 0.44, 0.5, 0.5]}, 'id': 0, 'label': 'fragments'}\nfragments\nED401B92-DC24-44C0-A52A-34CE831092BF\n{'frame_to_box': {'3': [0.41, 0.45, 0.47, 0.49], '4': [0.39, 0.44, 0.44, 0.49]}, 'id': 1, 'label': 'fragments'}\nfragments\nED401B92-DC24-44C0-A52A-34CE831092BF\n{'frame_to_box': {'8': [0.28, 0.43, 0.32, 0.48]}, 'id': 2, 'label': 'fragments'}\nfragments\nED401B92-DC24-44C0-A52A-34CE831092BF\n{'frame_to_box': {'8': [0.18, 0.28, 0.19, 0.32]}, 'id': 3, 'label': 'fragments'}\nfragments\nED401B92-DC24-44C0-A52A-34CE831092BF\n{'frame_to_box': {'9': [0.26, 0.43, 0.29, 0.49]}, 'id': 4, 'label': 'fragments'}\nfragments\nED401B92-DC24-44C0-A52A-34CE831092BF\n{'frame_to_box': {'10': [0.23, 0.42, 0.27, 0.48]}, 'id': 5, 'label': 'fragments'}\nfragments\nED401B92-DC24-44C0-A52A-34CE831092BF\n{'frame_to_box': {'11': [0.21, 0.43, 0.24, 0.48]}, 'id': 6, 'label': 'fragments'}\nfragments\nED401B92-DC24-44C0-A52A-34CE831092BF\n{'frame_to_box': {'12': [0.19, 0.42, 0.21, 0.47]}, 'id': 7, 'label': 'fragments'}\nfragments\nED401B92-DC24-44C0-A52A-34CE831092BF\n{'frame_to_box': {'13': [0.16, 0.42, 0.19, 0.47]}, 'id': 8, 'label': 'fragments'}\nfragments\nED401B92-DC24-44C0-A52A-34CE831092BF\n{'frame_to_box': {'13': [0.17, 0.42, 0.19, 0.45]}, 'id': 9, 'label': 'fragments'}\nfragments\nED401B92-DC24-44C0-A52A-34CE831092BF\n{'frame_to_box': {'16': [0.72, 0.45, 0.76, 0.49]}, 'id': 10, 'label': 'fragments'}\nfragments\nED401B92-DC24-44C0-A52A-34CE831092BF\n{'frame_to_box': {'21': [0.57, 0.44, 0.62, 0.47], '22': [0.56, 0.44, 0.6, 0.47]}, 'id': 11, 'label': 'fragments'}\nfragments\nED401B92-DC24-44C0-A52A-34CE831092BF\n{'frame_to_box': {'22': [0.56, 0.44, 0.6, 0.47]}, 'id': 12, 'label': 'others'}\nothers\n4BEC18FC-BC48-45B7-AFDA-6BA96BD80921\n{'frame_to_box': {'22': [0.56, 0.45, 0.6, 0.47]}, 'id': 13, 'label': 'bottles'}\nbottles\n9780940B-D06C-4AAB-8003-AB914981E87A\n"
    }
   ],
   "source": [
    "# Executing INSERT for all trash detected in json_prediction from vid1-4K4.MP4\n",
    "for frame_to_box in json_prediction['detected_trash']:\n",
    "    print(frame_to_box)\n",
    "    trashLabel = getTrashLabel(frame_to_box)\n",
    "    print(trashLabel)\n",
    "    mapLabel = mapLabel2TrashId(trashLabel)\n",
    "    print(mapLabel)\n",
    "    trashInsert(mapLabel,cursor,cnxn)"
   ]
  },
  {
   "cell_type": "markdown",
   "execution_count": null,
   "metadata": {},
   "outputs": [],
   "source": [
    "# Trash End to End"
   ]
  },
  {
   "cell_type": "code",
   "execution_count": 24,
   "metadata": {},
   "outputs": [],
   "source": [
    "from azure.storage.blob import ContainerClient\n",
    "from azure.storage.blob import BlobClient\n",
    "import json \n",
    "import os\n",
    "import pyodbc\n",
    "import subprocess"
   ]
  },
  {
   "cell_type": "code",
   "execution_count": 25,
   "metadata": {},
   "outputs": [],
   "source": [
    "''' blobContainer create a name_list of blobs within container'''\n",
    "''' params are container name (no full url) & storage conn string'''\n",
    "def blobInContainer(container,c_string):\n",
    "    campaign0_container = ContainerClient.from_connection_string(conn_str=c_string, container_name=container)\n",
    "    blob_list = campaign0_container.list_blobs()\n",
    "    blob_names_list = []\n",
    "    for blob in blob_list:\n",
    "        blob_names_list.append(blob.name)\n",
    "    return blob_names_list\n",
    "\n",
    "''' blobInfos provides basic information about a blob object'''\n",
    "''' params are blob_name only (no full url) & storage conn string'''\n",
    "def blobInfos(blob_name,c_string):\n",
    "    blob_video = BlobClient.from_connection_string(conn_str=c_string,container_name=\"campaign0\", blob_name=blob_name)\n",
    "    blob_video_url = blob_video.url\n",
    "    blob_video_prop = blob_video.get_blob_properties()\n",
    "    blob_video_prop_keys = blob_video_prop.keys()\n",
    "    print(\"blob name:\",blob_name)\n",
    "    print(\"blob URL:\",blob_video_url)\n",
    "    print(\"blob properties:\", blob_video_prop)\n",
    "    print(\"blob properties keys:\", blob_video_prop_keys)\n",
    "\n",
    "\n",
    "''' downloadBlob from Azure to local file system'''\n",
    "''' parameter is a blob client object from azure storage sdk'''\n",
    "def downloadBlob(blobclient):\n",
    "    with open(\"/tmp/\"+blobclient.blob_name, \"wb\") as my_blob_dl:\n",
    "        blob_data = blobclient.download_blob()\n",
    "        blob_data.readinto(my_blob_dl)\n",
    "    print(\"Blob %s downloaded\" %blobclient.blob_name)\n",
    "    print(\"Blob path: /tmp/%s\" %blobclient.blob_name)\n",
    "\n",
    "\n",
    "''' getPrediction function sends curl request to Surfrider AI'''\n",
    "''' video name is the name of a locally downloaded video from Azure'''\n",
    "''' video name is passed as an argument to curl_request script '''\n",
    "''' curl_request script sends actual POST request to Surfrider AI'''\n",
    "def getPrediction(video_name):\n",
    "    curl_request_script = ['./curl_request.sh','--arg',video_name]\n",
    "    output = []\n",
    "    request_answer = subprocess.Popen(curl_request_script, stdout=subprocess.PIPE)\n",
    "    i = 0\n",
    "    for line in request_answer.stdout:\n",
    "        print(line)\n",
    "        output.append(line)\n",
    "    return output\n",
    "\n",
    "\n",
    "''' jsonPrediction cast a prediction from getPrediction function '''\n",
    "''' from a list prediction to a string then dictionnary with json_loads '''\n",
    "def jsonPrediction(pred):\n",
    "    string_prediction = str(pred[0])[2:-3] #removing 2 x first and 3 last characters of pred\n",
    "    json_prediction = json.loads(string_prediction)\n",
    "    return json_prediction\n",
    "\n",
    "\n",
    "''' getTrashLabel return label from a frame_to_box'''\n",
    "def getTrashLabel(frame_2_box):\n",
    "    return frame_2_box['label']\n",
    "\n",
    "''' mapLabelTrashId is a switch that converts label to TrashId'''\n",
    "''' param is label that comes from AI predictions dictionnary jsonPrediction'''\n",
    "def mapLabel2TrashId(label):\n",
    "    switcher = { \n",
    "    \"Fishing or Hunting\":\"89B44BAA-69AA-4109-891A-128E012E7E07\",\n",
    "    \"Food Packaging\":\"185FEFA2-EEF2-47A8-873E-26032A4BB3C3\",\n",
    "    \"Unknown\":\"BB4DEA69-218A-40CC-A000-2AE17C37152C\",\n",
    "    \"Industrial or Construction Debris\":\"2A863E38-E5D0-455F-87CE-2B75DA29F59A\",\n",
    "    \"fragments\":\"ED401B92-DC24-44C0-A52A-34CE831092BF\",\n",
    "    \"Agricultural Waste\":\"36B2AFEB-7A7C-44B5-A790-5E5C73BA144D\",\n",
    "    \"others\":\"4BEC18FC-BC48-45B7-AFDA-6BA96BD80921\",\n",
    "    \"Common Household Items\":\"C68E90CF-6E65-4474-BC60-72E1C8513F55\",\n",
    "    \"plastic\":\"6961D0DB-928C-419E-9985-98EEEAF552C7\",\n",
    "    \"bottles\":\"9780940B-D06C-4AAB-8003-AB914981E87A\",\n",
    "    \"Drinking Bottles\":\"BCF549A8-AECD-4BC9-B9B8-B94A8F3758D5\",\n",
    "    \"Unknown10\":\"BC7BB564-BE04-4B4B-9913-FF69780B93A6\"\n",
    "    } \n",
    "    return switcher.get(label, \"nothing\")\n",
    "\n",
    "\n",
    "''' trashInsert execute INSERT request to dbo.Trash table'''\n",
    "''' parameter to indsert is a trashTypeId defined in Trash_Type table'''\n",
    "def trashInsert(cursor,cnxn,trashTypeId):\n",
    "    cursor.execute(\"INSERT dbo.Trash (Id,CampaignId,Latitude,Longitude,TrashTypeId,Precision,AI_Version) VALUES (NEWID(),'8D21A132-CF4B-404E-B287-C40A2F12D305','50.797731', '2.179029', ? ,'0.95','0')\",trashTypeId)\n",
    "    cnxn.commit()"
   ]
  },
  {
   "cell_type": "code",
   "execution_count": 29,
   "metadata": {},
   "outputs": [],
   "source": [
    "def main():\n",
    "    \n",
    "    # blob storage connection string\n",
    "    connection_string = os.getenv(\"CONN_STRING\")\n",
    " \n",
    "    # get list of blobs in container campaign0\n",
    "    blobs_campaign0 = blobInContainer('campaign0',connection_string)\n",
    "    print(blobs_campaign0)\n",
    "\n",
    "    # get infos of blob video vid1-4K4.MP4\n",
    "    blob_video_name = blobs_campaign0[14] \n",
    "    blobInfos(blob_video_name,connection_string)\n",
    "\n",
    "    # download blob video\n",
    "    blob_video0 = BlobClient.from_connection_string(conn_str=connection_string,container_name=\"campaign0\", blob_name=\"vid1-4K4.mp4\")\n",
    "    downloadBlob(blob_video0)\n",
    "\n",
    "    # get predictions from AI on vid1-4K4.MP4\n",
    "    prediction = getPrediction('vid1-4K4.MP4')\n",
    "\n",
    "    # cast prediction to JSON/Dictionnary format\n",
    "    json_prediction = jsonPrediction(prediction)\n",
    "    json_prediction\n",
    "\n",
    "    # SQL connection\n",
    "    server = os.getenv(\"SERVER\")\n",
    "    database = os.getenv(\"DATABASE\")\n",
    "    username = os.getenv(\"USERNAME\")\n",
    "    password = os.getenv(\"PWD\")\n",
    "    driver= '{ODBC Driver 17 for SQL Server}'\n",
    "    cnxn = pyodbc.connect('DRIVER='+driver+';SERVER='+server+';PORT=1433;DATABASE='+database+';UID='+username+';PWD='+ password)\n",
    "    cursor = cnxn.cursor()\n",
    "\n",
    "    # Executing INSERT for all trash detected in json_prediction from vid1-4K4.MP4\n",
    "    for frame_to_box in json_prediction['detected_trash']:\n",
    "        print(frame_to_box)\n",
    "        trashLabel = getTrashLabel(frame_to_box)\n",
    "        print(trashLabel)\n",
    "        mapLabel = mapLabel2TrashId(trashLabel)\n",
    "        print(mapLabel)\n",
    "        trashInsert(cursor,cnxn,mapLabel)\n",
    "    \n",
    "    # Visualize main result within dbo.Trash Table\n",
    "    cursor.execute(\"SELECT * FROM dbo.Trash\")\n",
    "    row = cursor.fetchone()\n",
    "    while row:\n",
    "        print (str(row[0]))\n",
    "        row = cursor.fetchone()"
   ]
  },
  {
   "cell_type": "code",
   "execution_count": 31,
   "metadata": {},
   "outputs": [
    {
     "name": "stdout",
     "output_type": "stream",
     "text": "['G0061732.JPG', 'G0061733.JPG', 'G0061734.JPG', 'G0061735.JPG', 'G0061736.JPG', 'G0061737.JPG', 'G0061738.JPG', 'G0061739.JPG', 'G0061740.JPG', 'G0061741.JPG', 'G0061742.JPG', 'G0061743.JPG', 'G0061744.JPG', 'G0061745.JPG', 'vid1-4K.MP4', 'vid1-4K2.MP4', 'vid1-4K3.mp4', 'vid1-4K4.mp4']\nblob name: vid1-4K.MP4\nblob URL: https://surftrashdev01.blob.core.windows.net/campaign0/vid1-4K.MP4\nblob properties: {'name': 'vid1-4K.MP4', 'container': 'campaign0', 'snapshot': None, 'blob_type': <BlobType.BlockBlob: 'BlockBlob'>, 'metadata': {}, 'encrypted_metadata': None, 'last_modified': datetime.datetime(2020, 2, 10, 9, 45, 9, tzinfo=datetime.timezone.utc), 'etag': '\"0x8D7AE0DEAE9DA7A\"', 'size': 569862387, 'content_range': None, 'append_blob_committed_block_count': None, 'page_blob_sequence_number': None, 'server_encrypted': True, 'copy': {'id': None, 'source': None, 'status': None, 'progress': None, 'completion_time': None, 'status_description': None, 'incremental_copy': None, 'destination_snapshot': None}, 'content_settings': {'content_type': 'video/mp4', 'content_encoding': None, 'content_language': None, 'content_md5': None, 'content_disposition': None, 'cache_control': None}, 'lease': {'status': 'unlocked', 'state': 'available', 'duration': None}, 'blob_tier': 'Hot', 'blob_tier_change_time': None, 'blob_tier_inferred': True, 'deleted': False, 'deleted_time': None, 'remaining_retention_days': None, 'creation_time': datetime.datetime(2020, 2, 10, 9, 45, 9, tzinfo=datetime.timezone.utc), 'archive_status': None, 'encryption_key_sha256': None, 'request_server_encrypted': True}\nblob properties keys: ['name', 'container', 'snapshot', 'blob_type', 'metadata', 'encrypted_metadata', 'last_modified', 'etag', 'size', 'content_range', 'append_blob_committed_block_count', 'page_blob_sequence_number', 'server_encrypted', 'copy', 'content_settings', 'lease', 'blob_tier', 'blob_tier_change_time', 'blob_tier_inferred', 'deleted', 'deleted_time', 'remaining_retention_days', 'creation_time', 'archive_status', 'encryption_key_sha256', 'request_server_encrypted']\nBlob vid1-4K4.mp4 downloaded\nBlob path: /tmp/vid1-4K4.mp4\nb'{\"detected_trash\":[{\"frame_to_box\":{\"2\":[0.45,0.44,0.5,0.5]},\"id\":0,\"label\":\"fragments\"},{\"frame_to_box\":{\"3\":[0.41,0.45,0.47,0.49],\"4\":[0.39,0.44,0.44,0.49]},\"id\":1,\"label\":\"fragments\"},{\"frame_to_box\":{\"8\":[0.28,0.43,0.32,0.48]},\"id\":2,\"label\":\"fragments\"},{\"frame_to_box\":{\"8\":[0.18,0.28,0.19,0.32]},\"id\":3,\"label\":\"fragments\"},{\"frame_to_box\":{\"9\":[0.26,0.43,0.29,0.49]},\"id\":4,\"label\":\"fragments\"},{\"frame_to_box\":{\"10\":[0.23,0.42,0.27,0.48]},\"id\":5,\"label\":\"fragments\"},{\"frame_to_box\":{\"11\":[0.21,0.43,0.24,0.48]},\"id\":6,\"label\":\"fragments\"},{\"frame_to_box\":{\"12\":[0.19,0.42,0.21,0.47]},\"id\":7,\"label\":\"fragments\"},{\"frame_to_box\":{\"13\":[0.16,0.42,0.19,0.47]},\"id\":8,\"label\":\"fragments\"},{\"frame_to_box\":{\"13\":[0.17,0.42,0.19,0.45]},\"id\":9,\"label\":\"fragments\"},{\"frame_to_box\":{\"16\":[0.72,0.45,0.76,0.49]},\"id\":10,\"label\":\"fragments\"},{\"frame_to_box\":{\"21\":[0.57,0.44,0.62,0.47],\"22\":[0.56,0.44,0.6,0.47]},\"id\":11,\"label\":\"fragments\"},{\"frame_to_box\":{\"22\":[0.56,0.44,0.6,0.47]},\"id\":12,\"label\":\"others\"},{\"frame_to_box\":{\"22\":[0.56,0.45,0.6,0.47]},\"id\":13,\"label\":\"bottles\"}],\"fps\":4,\"video_id\":\"vid1-4K4.MP4\",\"video_length\":25}\\n'\n{'frame_to_box': {'2': [0.45, 0.44, 0.5, 0.5]}, 'id': 0, 'label': 'fragments'}\nfragments\nED401B92-DC24-44C0-A52A-34CE831092BF\n{'frame_to_box': {'3': [0.41, 0.45, 0.47, 0.49], '4': [0.39, 0.44, 0.44, 0.49]}, 'id': 1, 'label': 'fragments'}\nfragments\nED401B92-DC24-44C0-A52A-34CE831092BF\n{'frame_to_box': {'8': [0.28, 0.43, 0.32, 0.48]}, 'id': 2, 'label': 'fragments'}\nfragments\nED401B92-DC24-44C0-A52A-34CE831092BF\n{'frame_to_box': {'8': [0.18, 0.28, 0.19, 0.32]}, 'id': 3, 'label': 'fragments'}\nfragments\nED401B92-DC24-44C0-A52A-34CE831092BF\n{'frame_to_box': {'9': [0.26, 0.43, 0.29, 0.49]}, 'id': 4, 'label': 'fragments'}\nfragments\nED401B92-DC24-44C0-A52A-34CE831092BF\n{'frame_to_box': {'10': [0.23, 0.42, 0.27, 0.48]}, 'id': 5, 'label': 'fragments'}\nfragments\nED401B92-DC24-44C0-A52A-34CE831092BF\n{'frame_to_box': {'11': [0.21, 0.43, 0.24, 0.48]}, 'id': 6, 'label': 'fragments'}\nfragments\nED401B92-DC24-44C0-A52A-34CE831092BF\n{'frame_to_box': {'12': [0.19, 0.42, 0.21, 0.47]}, 'id': 7, 'label': 'fragments'}\nfragments\nED401B92-DC24-44C0-A52A-34CE831092BF\n{'frame_to_box': {'13': [0.16, 0.42, 0.19, 0.47]}, 'id': 8, 'label': 'fragments'}\nfragments\nED401B92-DC24-44C0-A52A-34CE831092BF\n{'frame_to_box': {'13': [0.17, 0.42, 0.19, 0.45]}, 'id': 9, 'label': 'fragments'}\nfragments\nED401B92-DC24-44C0-A52A-34CE831092BF\n{'frame_to_box': {'16': [0.72, 0.45, 0.76, 0.49]}, 'id': 10, 'label': 'fragments'}\nfragments\nED401B92-DC24-44C0-A52A-34CE831092BF\n{'frame_to_box': {'21': [0.57, 0.44, 0.62, 0.47], '22': [0.56, 0.44, 0.6, 0.47]}, 'id': 11, 'label': 'fragments'}\nfragments\nED401B92-DC24-44C0-A52A-34CE831092BF\n{'frame_to_box': {'22': [0.56, 0.44, 0.6, 0.47]}, 'id': 12, 'label': 'others'}\nothers\n4BEC18FC-BC48-45B7-AFDA-6BA96BD80921\n{'frame_to_box': {'22': [0.56, 0.45, 0.6, 0.47]}, 'id': 13, 'label': 'bottles'}\nbottles\n9780940B-D06C-4AAB-8003-AB914981E87A\n3D5F29EA-C39F-4F37-AEBE-2D7F3A9C51BE\n8812F747-8301-4679-9A2C-69068808F2FF\nCCD497B0-6C5A-4B20-8FDA-85E34E78F9B4\nAD4F490C-BA33-42A8-A254-8C6EB7106ECA\n2D957A65-E7E6-40A8-855C-8F387EEE0269\nE4BDB9B1-2250-4150-853F-9A4F503AD9D4\n95471391-9504-4DB8-A73A-A4103984016C\nCAF4B505-3DC2-4989-B7EB-ADCB5A6C90B5\n39200475-3928-4123-A399-C291199A6C43\n5FB1D31F-0073-4C33-885C-C84E1134A3FF\nE25B9C5D-EEFC-4267-AA61-CA879EBE75E0\nE847FA03-1F8C-40E5-B97D-CD53123611AE\n8E155DF1-BD95-46BA-831A-D211B66F5183\n8CAF014E-6713-4771-B3F8-ED8A1773BA5C\n"
    }
   ],
   "source": [
    "# Execute main function\n",
    "if __name__ == '__main__':\n",
    "    main()"
   ]
  },
  {
   "cell_type": "markdown",
   "execution_count": null,
   "metadata": {},
   "outputs": [],
   "source": [
    "## SQL Ops - Optional check"
   ]
  },
  {
   "cell_type": "code",
   "execution_count": null,
   "metadata": {},
   "outputs": [],
   "source": [
    "# SQL Prequesite\n",
    "server = os.getenv(\"SERVER\")\n",
    "database = os.getenv(\"DATABASE\")\n",
    "username = os.getenv(\"USERNAME\")\n",
    "password = os.getenv(\"PWD\")\n",
    "driver= '{ODBC Driver 17 for SQL Server}'\n",
    "cnxn = pyodbc.connect('DRIVER='+driver+';SERVER='+server+';PORT=1433;DATABASE='+database+';UID='+username+';PWD='+ password)\n",
    "cursor = cnxn.cursor()"
   ]
  },
  {
   "cell_type": "code",
   "execution_count": 53,
   "metadata": {},
   "outputs": [],
   "source": [
    "# SELECT all record from dbo.Trash\n",
    "cursor.execute(\"SELECT * FROM dbo.Trash\")\n",
    "row = cursor.fetchone()\n",
    "while row:\n",
    "    for i in range(0,5):\n",
    "        print (str(row[i]))\n",
    "    row = cursor.fetchone()"
   ]
  },
  {
   "cell_type": "code",
   "execution_count": 52,
   "metadata": {},
   "outputs": [],
   "source": [
    "# DELETE ALL RECORD from Trash table\n",
    "cursor.execute(\"DELETE FROM dbo.Trash\")\n",
    "cnxn.commit()"
   ]
  }
 ]
}