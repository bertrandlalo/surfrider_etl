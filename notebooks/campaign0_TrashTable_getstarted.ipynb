{
 "nbformat": 4,
 "nbformat_minor": 2,
 "metadata": {
  "language_info": {
   "name": "python",
   "codemirror_mode": {
    "name": "ipython",
    "version": 3
   },
   "version": "3.6.9-final"
  },
  "orig_nbformat": 2,
  "file_extension": ".py",
  "mimetype": "text/x-python",
  "name": "python",
  "npconvert_exporter": "python",
  "pygments_lexer": "ipython3",
  "version": 3,
  "kernelspec": {
   "name": "python36964bitcondacadf76f2c1054d4581372baf88a91024",
   "display_name": "Python 3.6.9 64-bit (conda)"
  }
 },
 "cells": [
  {
   "cell_type": "code",
   "execution_count": null,
   "metadata": {},
   "outputs": [],
   "source": [
    "# get connection_string\n",
    "import os\n",
    "connection_string = os.getenv(\"CONN_STRING\")"
   ]
  },
  {
   "cell_type": "code",
   "execution_count": null,
   "metadata": {},
   "outputs": [],
   "source": [
    "! pip install azure-storage-blob"
   ]
  },
  {
   "cell_type": "code",
   "execution_count": null,
   "metadata": {},
   "outputs": [],
   "source": [
    "# import azure blob storage SDK & create blob client to test connectivity\n",
    "from azure.storage.blob import BlobClient\n",
    "my_blob = BlobClient.from_connection_string(conn_str=connection_string,container_name=\"campaign0\", blob_name=\"G0061732.JPG\")\n",
    "print(\"blob URL:\",my_blob.url)\n",
    "print(\"blob properties:\", my_blob.get_blob_properties())"
   ]
  },
  {
   "cell_type": "code",
   "execution_count": null,
   "metadata": {},
   "outputs": [],
   "source": [
    "# Create a list of blob names\n",
    "blob_list = container.list_blobs()\n",
    "blob_names_list = []\n",
    "for blob in blob_list:\n",
    "    blob_names_list.append(blob.name)\n",
    "print(blob_names_list)\n",
    "print(len(blob_names_list))\n",
    "\n",
    "# Example: Extract Blob URL, Properties & Keys for blob0\n",
    "blob0 = BlobClient.from_connection_string(conn_str=connection_string,container_name=\"campaign0\", blob_name=blob_names_list[0])\n",
    "blob0_name = blob_names_list[0]\n",
    "blob0_url = blob0.url\n",
    "blob0_prop = blob0.get_blob_properties()\n",
    "blob0_prop_keys = blob0_prop.keys()\n",
    "print(\"blob name:\",blob0_name)\n",
    "print(\"blob URL:\",blob0_url)\n",
    "print(\"blob properties:\", blob0_prop)\n",
    "print(\"blob properties keys:\", blob0_prop_keys)"
   ]
  },
  {
   "cell_type": "code",
   "execution_count": null,
   "metadata": {},
   "outputs": [],
   "source": [
    "# import container client and enumerate blob within container\n",
    "from azure.storage.blob import ContainerClient\n",
    "\n",
    "container = ContainerClient.from_connection_string(conn_str=connection_string, container_name=\"campaign0\")\n",
    "\n",
    "blob_list = container.list_blobs()\n",
    "for blob in blob_list:\n",
    "    print(blob.name)"
   ]
  },
  {
   "cell_type": "code",
   "execution_count": null,
   "metadata": {},
   "outputs": [],
   "source": [
    "# pre-requesite: install pyodbc slq driver for python\n",
    "! pip install pyodbc"
   ]
  },
  {
   "cell_type": "code",
   "execution_count": null,
   "metadata": {},
   "outputs": [],
   "source": [
    "# import sql odbc driver and connect to SQL DB\n",
    "import pyodbc\n",
    "server = os.getenv(\"SERVER\")\n",
    "database = os.getenv(\"DATABASE\")\n",
    "username = os.getenv(\"USERNAME\")\n",
    "password = os.getenv(\"PWD\")\n",
    "driver= '{ODBC Driver 17 for SQL Server}'\n",
    "cnxn = pyodbc.connect('DRIVER='+driver+';SERVER='+server+';PORT=1433;DATABASE='+database+';UID='+username+';PWD='+ password)\n",
    "cursor = cnxn.cursor()"
   ]
  },
  {
   "cell_type": "code",
   "execution_count": null,
   "metadata": {},
   "outputs": [],
   "source": [
    "# Get ColName & DataType of dbo.Trash & dbo.Trash_Type\n",
    "\n",
    "# create a string of Table columns list\n",
    "def colAsString(column_list):\n",
    "    col_as_string= column_list[0]\n",
    "    for col in column_list[1:len(column_list)]:\n",
    "        col_as_string = col_as_string + ',' + col\n",
    "    return col_as_string\n",
    "\n",
    "\n",
    "print(\"Campaign scheme\")\n",
    "cursor.execute(\"SELECT COLUMN_NAME FROM INFORMATION_SCHEMA.COLUMNS WHERE TABLE_NAME ='Campaign' ORDER BY ORDINAL_POSITION\")\n",
    "row = cursor.fetchone()\n",
    "campaign_col_list = []\n",
    "while row:\n",
    "    print (str(row[0]))\n",
    "    campaign_col_list.append(str(row[0]))\n",
    "    row = cursor.fetchone()\n",
    "\n",
    "print(str(colAsString(campaign_col_list))+\"\\n\")\n",
    "\n",
    "print(\"Trash scheme\")\n",
    "cursor.execute(\"SELECT COLUMN_NAME FROM INFORMATION_SCHEMA.COLUMNS WHERE TABLE_NAME ='Trash' ORDER BY ORDINAL_POSITION\")\n",
    "row = cursor.fetchone()\n",
    "trash_col_list = []\n",
    "while row:\n",
    "    print (str(row[0]))\n",
    "    trash_col_list.append(str(row[0]))\n",
    "    row = cursor.fetchone()\n",
    "print(str(colAsString(trash_col_list))+\"\\n\")\n",
    "\n",
    "print(\"Trash_Type scheme\")\n",
    "cursor.execute(\"SELECT COLUMN_NAME FROM INFORMATION_SCHEMA.COLUMNS WHERE TABLE_NAME ='Trash_Type' ORDER BY ORDINAL_POSITION\")\n",
    "row = cursor.fetchone()\n",
    "trash_type_col_list = []\n",
    "while row:\n",
    "    print (str(row[0]))\n",
    "    trash_type_col_list.append(str(row[0]))\n",
    "    row = cursor.fetchone()\n",
    "\n",
    "print(str(colAsString(trash_type_col_list))+\"\\n\")"
   ]
  },
  {
   "cell_type": "code",
   "execution_count": 47,
   "metadata": {},
   "outputs": [
    {
     "name": "stdout",
     "output_type": "stream",
     "text": "Campaign length 7\nTrash length 1\nTrash_Type length 1\n"
    }
   ],
   "source": [
    "# SELECT COUNT for Campaign & Trash & Trash_Type\n",
    "\n",
    "cursor.execute(\"SELECT COUNT(*) FROM dbo.Campaign \")\n",
    "row = cursor.fetchone()\n",
    "while row:\n",
    "    print (\"Campaign length\",str(row[0]))\n",
    "    row = cursor.fetchone()\n",
    "\n",
    "cursor.execute(\"SELECT COUNT(*) FROM dbo.Trash \")\n",
    "row = cursor.fetchone()\n",
    "while row:\n",
    "    print (\"Trash length\",str(row[0]))\n",
    "    row = cursor.fetchone()\n",
    "\n",
    "cursor.execute(\"SELECT COUNT(*) FROM dbo.Trash_Type \")\n",
    "row = cursor.fetchone()\n",
    "while row:\n",
    "    print (\"Trash_Type length\",str(row[0]))\n",
    "    row = cursor.fetchone()"
   ]
  },
  {
   "cell_type": "markdown",
   "execution_count": null,
   "metadata": {},
   "outputs": [],
   "source": [
    "## dbo.Campaign Queries"
   ]
  },
  {
   "cell_type": "code",
   "execution_count": null,
   "metadata": {},
   "outputs": [],
   "source": [
    "# SELECT all rows dbo.Campaign\n",
    "cursor.execute(\"SELECT Id,StartDate,EndDate,StartLat,StartLong,EndLat,EndLong,Locomotion,IsAIDriven,TracedRiverSide,Remark FROM dbo.Campaign\")\n",
    "row = cursor.fetchone()\n",
    "while row:\n",
    "    for col in row:\n",
    "        print (str(col))\n",
    "    row = cursor.fetchone()"
   ]
  },
  {
   "cell_type": "code",
   "execution_count": null,
   "metadata": {},
   "outputs": [],
   "source": [
    "# SELECT most recent campaign with Id = 806342B8-9F90-4C24-A10A-962D3E875CC9\n",
    "cursor.execute(\"SELECT Id,StartDate,EndDate,StartLat,StartLong,EndLat,EndLong,Locomotion,IsAIDriven,TracedRiverSide,Remark FROM dbo.Campaign WHERE Id='806342B8-9F90-4C24-A10A-962D3E875CC9'\")\n",
    "row = cursor.fetchone()\n",
    "while row:\n",
    "    for col in row:\n",
    "        print (str(col))\n",
    "    row = cursor.fetchone()"
   ]
  },
  {
   "cell_type": "code",
   "execution_count": null,
   "metadata": {},
   "outputs": [],
   "source": [
    "# Campaign INSERT\n",
    "cursor.execute(\"INSERT dbo.Campaign (Id,StartDate,EndDate,StartLat,StartLong,EndLat,EndLong,Locomotion,IsAIDriven,TracedRiverSide,Remark) VALUES (NEWID(),'2020-01-28','2020-01-28','50.797731', '2.179029', '50.797731', '2.179029','kayak','true',NULL,'NA')\")\n",
    "cnxn.commit()"
   ]
  },
  {
   "cell_type": "markdown",
   "execution_count": null,
   "metadata": {},
   "outputs": [],
   "source": [
    "## dbo.Trash_Type Queries"
   ]
  },
  {
   "cell_type": "code",
   "execution_count": null,
   "metadata": {},
   "outputs": [],
   "source": [
    "# Sample Query on dbo.Trash_Type\n",
    "cursor.execute(\"SELECT * FROM dbo.Trash_Type\")\n",
    "row = cursor.fetchone()\n",
    "while row:\n",
    "    print (str(row[0]))\n",
    "    row = cursor.fetchone()"
   ]
  },
  {
   "cell_type": "code",
   "execution_count": null,
   "metadata": {},
   "outputs": [],
   "source": [
    "# SELECT dbo.Trash_Type\n",
    "cursor.execute(\"SELECT Id,Type FROM dbo.Trash_Type\")\n",
    "row = cursor.fetchone()\n",
    "while row:\n",
    "    for col in row:\n",
    "        print (str(col))\n",
    "    row = cursor.fetchone()"
   ]
  },
  {
   "cell_type": "code",
   "execution_count": null,
   "metadata": {},
   "outputs": [],
   "source": [
    "# pre-requesite before Trash INSERT: Trash_Type.id\n",
    "cursor.execute(\"INSERT dbo.Trash_Type (Id,Type) VALUES (NEWID(),'plastic')\")\n",
    "cnxn.commit()"
   ]
  },
  {
   "cell_type": "markdown",
   "execution_count": null,
   "metadata": {},
   "outputs": [],
   "source": [
    "## dbo.Trash Query"
   ]
  },
  {
   "cell_type": "code",
   "execution_count": null,
   "metadata": {},
   "outputs": [],
   "source": [
    "# Sample Query on dbo.Trash\n",
    "cursor.execute(\"SELECT * FROM dbo.Trash\")\n",
    "row = cursor.fetchone()\n",
    "while row:\n",
    "    print (str(row[0]))\n",
    "    row = cursor.fetchone()"
   ]
  },
  {
   "cell_type": "code",
   "execution_count": null,
   "metadata": {},
   "outputs": [],
   "source": [
    "# SELECT dbo.Trash\n",
    "cursor.execute(\"SELECT Id,CampaignId,Latitude,Longitude,TrashTypeId,Precision,AI_Version FROM dbo.Trash\")\n",
    "row = cursor.fetchone()\n",
    "while row:\n",
    "    for col in row:\n",
    "        print (str(col))\n",
    "    row = cursor.fetchone()"
   ]
  },
  {
   "cell_type": "code",
   "execution_count": null,
   "metadata": {},
   "outputs": [],
   "source": [
    "# INSERT Query on dbo.Trash - First Example\n",
    "cursor.execute(\"INSERT dbo.Trash (Id,CampaignId,Latitude,Longitude,TrashTypeId,Precision,AI_Version) VALUES (NEWID(),'8D21A132-CF4B-404E-B287-C40A2F12D305','50.797731', '2.179029', '6961D0DB-928C-419E-9985-98EEEAF552C7' ,'0.95','0')\")\n",
    "cnxn.commit()"
   ]
  },
  {
   "cell_type": "markdown",
   "execution_count": null,
   "metadata": {},
   "outputs": [],
   "source": [
    "# Clean Images Table"
   ]
  },
  {
   "cell_type": "code",
   "execution_count": null,
   "metadata": {},
   "outputs": [],
   "source": [
    "# DELETE ALL RECORD from Trash table\n",
    "cursor.execute(\"DELETE FROM dbo.Campaign\")\n",
    "cnxn.commit()"
   ]
  },
  {
   "cell_type": "code",
   "execution_count": null,
   "metadata": {},
   "outputs": [],
   "source": [
    "# DELETE ALL RECORD from Trash table\n",
    "cursor.execute(\"DELETE FROM dbo.Trash\")\n",
    "cnxn.commit()"
   ]
  },
  {
   "cell_type": "code",
   "execution_count": null,
   "metadata": {},
   "outputs": [],
   "source": [
    "# DELETE ALL RECORD from Trash_Type table\n",
    "cursor.execute(\"DELETE FROM dbo.Trash_Type\")\n",
    "cnxn.commit()"
   ]
  }
 ]
}