{
 "nbformat": 4,
 "nbformat_minor": 2,
 "metadata": {
  "language_info": {
   "name": "python",
   "codemirror_mode": {
    "name": "ipython",
    "version": 3
   },
   "version": "3.6.9-final"
  },
  "orig_nbformat": 2,
  "file_extension": ".py",
  "mimetype": "text/x-python",
  "name": "python",
  "npconvert_exporter": "python",
  "pygments_lexer": "ipython3",
  "version": 3,
  "kernelspec": {
   "name": "python36964bitcondacadf76f2c1054d4581372baf88a91024",
   "display_name": "Python 3.6.9 64-bit (conda)"
  }
 },
 "cells": [
  {
   "cell_type": "code",
   "execution_count": 1,
   "metadata": {},
   "outputs": [
    {
     "name": "stdout",
     "output_type": "stream",
     "text": "../goprosamples/19022020_Adour_3.MP4\n"
    }
   ],
   "source": [
    "import os\n",
    "\n",
    "# video path\n",
    "goprosamples_path = '../goprosamples/'\n",
    "gopro_file = '19022020_Adour_3.MP4'\n",
    "gopro_path = os.path.join(goprosamples_path,gopro_file)\n",
    "print(gopro_path)"
   ]
  },
  {
   "cell_type": "code",
   "execution_count": 3,
   "metadata": {},
   "outputs": [
    {
     "name": "stdout",
     "output_type": "stream",
     "text": "2489\n"
    }
   ],
   "source": [
    "# Frame count using opencv\n",
    "import cv2\n",
    "capture = cv2.VideoCapture(gopro_path)\n",
    "length = capture.get(cv2.CAP_PROP_FRAME_COUNT)\n",
    "print(int(length))"
   ]
  },
  {
   "cell_type": "code",
   "execution_count": 4,
   "metadata": {},
   "outputs": [],
   "source": [
    "import json\n",
    "import subprocess\n",
    "\n",
    "#===============================\n",
    "def getMediaInfo(mediafile):\n",
    "    cmd = \"mediainfo --Output=JSON %s\"%(mediafile)\n",
    "    proc = subprocess.Popen(cmd, shell=True,stderr=subprocess.PIPE, stdout=subprocess.PIPE)\n",
    "    stdout, stderr = proc.communicate()\n",
    "    data = json.loads(stdout)\n",
    "    return data\n",
    "\n",
    "#===============================\n",
    "def getDuration(mediafile):\n",
    "    data = getMediaInfo(mediafile)\n",
    "    duration = float(data['media']['track'][0]['Duration'])\n",
    "    return duration\n",
    "\n",
    "#===============================\n",
    "def getFrameRate(mediafile):\n",
    "    data = getMediaInfo(mediafile)\n",
    "    frameRate = float(data['media']['track'][0]['FrameRate'])\n",
    "    return frameRate\n",
    "\n",
    "#===============================\n",
    "def getFrameCount(mediafile):\n",
    "    data = getMediaInfo(mediafile)\n",
    "    frameCount = float(data['media']['track'][0]['FrameCount'])\n",
    "    return frameCount"
   ]
  },
  {
   "cell_type": "code",
   "execution_count": 5,
   "metadata": {},
   "outputs": [
    {
     "data": {
      "text/plain": "{'media': {'@ref': '../goprosamples/19022020_Adour_3.MP4',\n  'track': [{'@type': 'General',\n    'VideoCount': '1',\n    'AudioCount': '1',\n    'OtherCount': '3',\n    'FileExtension': 'MP4',\n    'Format': 'MPEG-4',\n    'Format_Profile': 'Base Media',\n    'CodecID': 'mp41',\n    'CodecID_Compatible': 'mp41',\n    'FileSize': '392588846',\n    'Duration': '103.812',\n    'OverallBitRate_Mode': 'VBR',\n    'OverallBitRate': '30253832',\n    'FrameRate': '23.976',\n    'FrameCount': '2489',\n    'StreamSize': '795299',\n    'HeaderSize': '20',\n    'DataSize': '392440183',\n    'FooterSize': '148643',\n    'IsStreamable': 'No',\n    'Encoded_Date': 'UTC 2020-02-19 15:20:48',\n    'Tagged_Date': 'UTC 2020-02-19 15:20:48',\n    'File_Modified_Date': 'UTC 2020-02-27 13:26:22',\n    'File_Modified_Date_Local': '2020-02-27 14:26:22',\n    'extra': {'xyz': '+43.4979-001.3849/'}},\n   {'@type': 'Video',\n    'StreamOrder': '0',\n    'ID': '1',\n    'Format': 'AVC',\n    'Format_Profile': 'High',\n    'Format_Level': '4.2',\n    'Format_Settings_CABAC': 'Yes',\n    'Format_Settings_RefFrames': '2',\n    'Format_Settings_GOP': 'M=1, N=12',\n    'CodecID': 'avc1',\n    'Duration': '103.812',\n    'BitRate_Mode': 'VBR',\n    'BitRate': '30000000',\n    'Width': '1920',\n    'Height': '1080',\n    'Stored_Height': '1088',\n    'Sampled_Width': '1920',\n    'Sampled_Height': '1080',\n    'PixelAspectRatio': '1.000',\n    'DisplayAspectRatio': '1.778',\n    'Rotation': '0.000',\n    'FrameRate_Mode': 'CFR',\n    'FrameRate': '23.976',\n    'FrameCount': '2489',\n    'ColorSpace': 'YUV',\n    'ChromaSubsampling': '4:2:0',\n    'BitDepth': '8',\n    'ScanType': 'Progressive',\n    'Delay': '57591.783',\n    'StreamSize': '389337411',\n    'Title': 'GoPro AVC  ',\n    'Language': 'en',\n    'Encoded_Date': 'UTC 2020-02-19 15:20:48',\n    'Tagged_Date': 'UTC 2020-02-19 15:20:48',\n    'BufferSize': '12000000 / 12000000',\n    'colour_description_present': 'Yes',\n    'colour_description_present_Source': 'Stream',\n    'colour_range': 'Full',\n    'colour_range_Source': 'Stream',\n    'colour_primaries': 'BT.709',\n    'colour_primaries_Source': 'Stream',\n    'transfer_characteristics': 'BT.709',\n    'transfer_characteristics_Source': 'Stream',\n    'matrix_coefficients': 'BT.709',\n    'matrix_coefficients_Source': 'Stream',\n    'extra': {'Codec_configuration_box': 'avcC'}},\n   {'@type': 'Audio',\n    'StreamOrder': '1',\n    'ID': '2',\n    'Format': 'AAC',\n    'Format_AdditionalFeatures': 'LC',\n    'CodecID': 'mp4a-40-2',\n    'Duration': '103.808',\n    'BitRate_Mode': 'CBR',\n    'BitRate': '192000',\n    'BitRate_Nominal': '48000',\n    'Channels': '2',\n    'ChannelPositions': 'Front: L R',\n    'ChannelLayout': 'L R',\n    'SamplesPerFrame': '1024',\n    'SamplingRate': '48000',\n    'SamplingCount': '4982784',\n    'FrameRate': '46.875',\n    'FrameCount': '4866',\n    'Compression_Mode': 'Lossy',\n    'Delay': '57591.783',\n    'Delay_DropFrame': 'No',\n    'Delay_Source': 'Container',\n    'StreamSize': '2456136',\n    'StreamSize_Proportion': '0.00626',\n    'Title': 'GoPro AAC  ',\n    'Language': 'en',\n    'Encoded_Date': 'UTC 2020-02-19 15:20:48',\n    'Tagged_Date': 'UTC 2020-02-19 15:20:48'},\n   {'@type': 'Other',\n    '@typeorder': '1',\n    'StreamOrder': '2',\n    'ID': '3',\n    'Type': 'Time code',\n    'Format': 'QuickTime TC',\n    'Duration': '103.812',\n    'BitRate_Mode': 'CBR',\n    'FrameRate': '23.976',\n    'TimeCode_FirstFrame': '15:59:51:18',\n    'TimeCode_Striped': 'Yes',\n    'Title': 'GoPro TCD  ',\n    'Language': 'en',\n    'extra': {'Encoded_Date': 'UTC 2020-02-19 15:20:48',\n     'Tagged_Date': 'UTC 2020-02-19 15:20:48'}},\n   {'@type': 'Other',\n    '@typeorder': '2',\n    'Type': 'meta',\n    'Duration': '102.102',\n    'BitRate_Mode': 'VBR',\n    'FrameCount': '102'},\n   {'@type': 'Other',\n    '@typeorder': '3',\n    'Type': 'meta',\n    'Duration': '0.000',\n    'BitRate_Mode': 'VBR',\n    'FrameCount': '7459',\n    'extra': {'mdhd_Duration': '103812'}}]}}"
     },
     "execution_count": 5,
     "metadata": {},
     "output_type": "execute_result"
    }
   ],
   "source": [
    "# Get GoPro Video info\n",
    "getMediaInfo(gopro_path)"
   ]
  },
  {
   "cell_type": "code",
   "execution_count": 6,
   "metadata": {},
   "outputs": [],
   "source": [
    "#https://github.com/juanmcasillas/gopro2gpx"
   ]
  },
  {
   "cell_type": "code",
   "execution_count": null,
   "metadata": {},
   "outputs": [],
   "source": []
  }
 ]
}