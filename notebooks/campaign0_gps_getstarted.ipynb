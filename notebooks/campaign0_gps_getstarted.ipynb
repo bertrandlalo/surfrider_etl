{
 "nbformat": 4,
 "nbformat_minor": 2,
 "metadata": {
  "language_info": {
   "name": "python",
   "codemirror_mode": {
    "name": "ipython",
    "version": 3
   },
   "version": "3.6.9-final"
  },
  "orig_nbformat": 2,
  "file_extension": ".py",
  "mimetype": "text/x-python",
  "name": "python",
  "npconvert_exporter": "python",
  "pygments_lexer": "ipython3",
  "version": 3,
  "kernelspec": {
   "name": "python36964bitcondacadf76f2c1054d4581372baf88a91024",
   "display_name": "Python 3.6.9 64-bit (conda)"
  }
 },
 "cells": [
  {
   "cell_type": "code",
   "execution_count": null,
   "metadata": {},
   "outputs": [],
   "source": [
    "! pip install gpxpy"
   ]
  },
  {
   "cell_type": "code",
   "execution_count": null,
   "metadata": {},
   "outputs": [],
   "source": [
    "! pip install pykml"
   ]
  },
  {
   "cell_type": "code",
   "execution_count": null,
   "metadata": {},
   "outputs": [],
   "source": [
    "import os"
   ]
  },
  {
   "cell_type": "code",
   "execution_count": null,
   "metadata": {},
   "outputs": [],
   "source": [
    "# https://stackoverflow.com/questions/3844430/how-to-get-the-duration-of-a-video-in-python\n",
    "import json\n",
    "import subprocess\n",
    "\n",
    "#===============================\n",
    "def getMediaInfo(mediafile):\n",
    "    cmd = \"mediainfo --Output=JSON %s\"%(mediafile)\n",
    "    proc = subprocess.Popen(cmd, shell=True,stderr=subprocess.PIPE, stdout=subprocess.PIPE)\n",
    "    stdout, stderr = proc.communicate()\n",
    "    data = json.loads(stdout)\n",
    "    return data\n",
    "\n",
    "#===============================\n",
    "def getDuration(mediafile):\n",
    "    data = getMediaInfo(mediafile)\n",
    "    duration = float(data['media']['track'][0]['Duration'])\n",
    "    return duration\n",
    "\n",
    "#===============================\n",
    "def getFrameRate(mediafile):\n",
    "    data = getMediaInfo(mediafile)\n",
    "    frameRate = float(data['media']['track'][0]['FrameRate'])\n",
    "    return frameRate\n",
    "\n",
    "#===============================\n",
    "def getFrameCount(mediafile):\n",
    "    data = getMediaInfo(mediafile)\n",
    "    frameCount = float(data['media']['track'][0]['FrameCount'])\n",
    "    return frameCount"
   ]
  },
  {
   "cell_type": "markdown",
   "execution_count": null,
   "metadata": {},
   "outputs": [],
   "source": [
    "## GPX file"
   ]
  },
  {
   "cell_type": "code",
   "execution_count": null,
   "metadata": {},
   "outputs": [],
   "source": [
    "gps_path = '../gpssamples/'\n",
    "#gpx_file = 'adour.gpx' \n",
    "gpx_file = '3145554.gpx'\n",
    "gpx_path = os.path.join(gps_path,gpx_file)"
   ]
  },
  {
   "cell_type": "code",
   "execution_count": null,
   "metadata": {},
   "outputs": [],
   "source": [
    "import gpxpy\n",
    "import gpxpy.gpx \n",
    "gpx_file = open(gpx_path,'r',encoding='utf-8')\n",
    "gpx = gpxpy.parse(gpx_file) # data from parsed gpx file"
   ]
  },
  {
   "cell_type": "code",
   "execution_count": null,
   "metadata": {},
   "outputs": [],
   "source": [
    "''' gpsPointList function extract gps points from gpx file '''\n",
    "''' gpxdata is a gpxpy object that returns data from a parsed gpx file'''\n",
    "''' gpsPointList return a list of dictionnary points with Time, Lat, Long, Elev'''\n",
    "def gpsPointList(gpxdata):\n",
    "    point_list = []\n",
    "    for track in gpxdata.tracks:\n",
    "        for segment in track.segments: \n",
    "            for point in segment.points:\n",
    "                point_info = {'Time':point.time,'Latitude':point.latitude,'Longitude':point.longitude,'Elevation':point.elevation}\n",
    "                point_list.append(point_info)\n",
    "    return point_list"
   ]
  },
  {
   "cell_type": "code",
   "execution_count": null,
   "metadata": {},
   "outputs": [],
   "source": [
    "mypoints = gpsPointList(gpx)\n",
    "for i in range(0,10):\n",
    "    print(mypoints[i])"
   ]
  },
  {
   "cell_type": "markdown",
   "execution_count": null,
   "metadata": {},
   "outputs": [],
   "source": [
    "## KML File"
   ]
  },
  {
   "cell_type": "code",
   "execution_count": null,
   "metadata": {},
   "outputs": [],
   "source": [
    "gps_path = '../kmlsamples'\n",
    "kml_file4 = '19022020_Adour_4.kml'\n",
    "kml_path4 = os.path.join(gps_path,kml_file4)\n",
    "kml_file5 = '19022020_Adour_5.kml'\n",
    "kml_path5 = os.path.join(gps_path,kml_file5)\n",
    "kml_file6 = '19022020_Adour_6.kml'\n",
    "kml_path6 = os.path.join(gps_path,kml_file6)"
   ]
  },
  {
   "cell_type": "markdown",
   "execution_count": null,
   "metadata": {},
   "outputs": [],
   "source": [
    "## KML processing first tests"
   ]
  },
  {
   "cell_type": "code",
   "execution_count": null,
   "metadata": {},
   "outputs": [],
   "source": [
    "from pykml import parser\n",
    "gps_path = '../gpssamples'\n",
    "kml_file = '19022020_Adour_6.kml'\n",
    "kml_path = os.path.join(gps_path,kml_file)\n",
    "root = parser.fromstring(open(kml_path, 'r').read())\n",
    "print (root.Document.Placemark.Point.coordinates)"
   ]
  },
  {
   "cell_type": "code",
   "execution_count": null,
   "metadata": {},
   "outputs": [],
   "source": [
    "# Getting Placemark child info example\n",
    "for placemark in root.Document.Placemark:\n",
    "    print(placemark.name)\n",
    "    print(placemark.styleUrl)"
   ]
  },
  {
   "cell_type": "code",
   "execution_count": null,
   "metadata": {},
   "outputs": [],
   "source": [
    "# Placemark 0 example: getting Extended info\n",
    "for placemark in root.Document.Placemark:\n",
    "    if(placemark.name == 0):\n",
    "        print(\"Placemark Name: \",placemark.name)\n",
    "        test = placemark\n",
    "\n",
    "for SimpleData in test.ExtendedData.SchemaData.SimpleData:\n",
    "        print(SimpleData)"
   ]
  },
  {
   "cell_type": "code",
   "execution_count": null,
   "metadata": {},
   "outputs": [],
   "source": [
    "''' placeMarkNameList function takes a parsed kml file input'''\n",
    "''' then returns the a list of Placemark names'''\n",
    "def placemarkNameList(kmlroot):\n",
    "    placemark_name = []\n",
    "    for placemark in kmlroot.Document.Placemark:\n",
    "        placemark_name.append(placemark.name)\n",
    "    return placemark_name\n",
    "\n",
    "# Testing placemarkNameList function\n",
    "mykmlPlacemarkList = placemarkNameList(root)\n",
    "print(mykmlPlacemarkList)"
   ]
  },
  {
   "cell_type": "code",
   "execution_count": null,
   "metadata": {},
   "outputs": [],
   "source": [
    "''' getPlacemarkExtendedData function takes a placemarkname list input '''\n",
    "''' then return'''\n",
    "def getPlacemarkExtendedData(placemarkname):\n",
    "    placemarkExtendedData_list = []\n",
    "    for i in range(1,len(placemarkname)-1):\n",
    "        \n",
    "        placemarkExtendedData_info = []\n",
    "        for placemark in root.Document.Placemark:\n",
    "            if(placemark.name == placemarkname[i]):\n",
    "                #print(placemark.name)\n",
    "                temp = placemark\n",
    "        for SimpleData in temp.ExtendedData.SchemaData.SimpleData:\n",
    "                #print(SimpleData)\n",
    "                placemarkExtendedData_info.append(SimpleData)\n",
    "\n",
    "        placemarkExtendedData_list.append(placemarkExtendedData_info)\n",
    "    return placemarkExtendedData_list\n",
    "\n",
    "# testing getPlacemarkExtendedData function\n",
    "mykmlPlacemarkExtendedDataList = getPlacemarkExtendedData(mykmlPlacemarkList)\n",
    "print(mykmlPlacemarkExtendedDataList)"
   ]
  },
  {
   "cell_type": "code",
   "execution_count": null,
   "metadata": {},
   "outputs": [],
   "source": [
    "''' placemarkgpsDico function takes extendeddata input '''\n",
    "''' then returns a gps dico from it'''\n",
    "def placemarkGpsDico(extendeddata):\n",
    "    dico = {\"Time\":str(extendeddata[7])+\" \"+str(extendeddata[8]),\"Latitude\":extendeddata[1],\"Longitude\":extendeddata[2],\"Elevation\":extendeddata[6]}\n",
    "    return dico\n",
    "\n",
    "# testing placemarkGpsDico\n",
    "myextendeddatadico = placemarkGpsDico(mykmlPlacemarkExtendedDataList[0])\n",
    "print(myextendeddatadico)"
   ]
  },
  {
   "cell_type": "code",
   "execution_count": null,
   "metadata": {},
   "outputs": [],
   "source": [
    "def gpsPlacemarkList(placemarkExtendedDataList):\n",
    "    gpsPlacemark_List = []\n",
    "    for i in range(0,len(placemarkExtendedDataList)):\n",
    "        gpsPlacemark_List.append(placemarkGpsDico(placemarkExtendedDataList[i]))\n",
    "    return gpsPlacemark_List\n",
    "\n",
    "myGpsPlacemarkList =  gpsPlacemarkList(mykmlPlacemarkExtendedDataList)\n",
    "myGpsPlacemarkList"
   ]
  },
  {
   "cell_type": "markdown",
   "execution_count": null,
   "metadata": {},
   "outputs": [],
   "source": [
    "## KML functions helpers"
   ]
  },
  {
   "cell_type": "code",
   "execution_count": null,
   "metadata": {},
   "outputs": [],
   "source": [
    "''' placeMarkNameList function takes a parsed kml file input'''\n",
    "''' then returns the a list of Placemark names'''\n",
    "def placemarkNameList(kmlroot):\n",
    "    placemark_name = []\n",
    "    for placemark in kmlroot.Document.Placemark:\n",
    "        placemark_name.append(placemark.name)\n",
    "    return placemark_name\n",
    "    \n",
    "\n",
    "''' getPlacemarkExtendedData function takes a placemarkname list input '''\n",
    "''' then return'''\n",
    "def getPlacemarkExtendedData(placemarkname):\n",
    "    placemarkExtendedData_list = []\n",
    "    for i in range(1,len(placemarkname)-1):\n",
    "        \n",
    "        placemarkExtendedData_info = []\n",
    "        for placemark in root.Document.Placemark:\n",
    "            if(placemark.name == placemarkname[i]):\n",
    "                #print(placemark.name)\n",
    "                temp = placemark\n",
    "        for SimpleData in temp.ExtendedData.SchemaData.SimpleData:\n",
    "                #print(SimpleData)\n",
    "                placemarkExtendedData_info.append(SimpleData)\n",
    "\n",
    "        placemarkExtendedData_list.append(placemarkExtendedData_info)\n",
    "    return placemarkExtendedData_list\n",
    "\n",
    "\n",
    "''' placemarkgpsDico function takes extendeddata input '''\n",
    "''' then returns a gps dico from it'''\n",
    "def placemarkGpsDico(extendeddata):\n",
    "    dico = {\"Time\":str(extendeddata[7])+\" \"+str(extendeddata[8]),\"Latitude\":extendeddata[1],\"Longitude\":extendeddata[2],\"Elevation\":extendeddata[6]}\n",
    "    return dico\n",
    "\n",
    "\n",
    "''' gpsPlacemarkList function takes placemarkExtendedDataList input '''\n",
    "''' then returng a list of gps dico of Placemark'''\n",
    "def gpsPlacemarkList(placemarkExtendedDataList):\n",
    "    gpsPlacemark_List = []\n",
    "    for i in range(0,len(placemarkExtendedDataList)):\n",
    "        gpsPlacemark_List.append(placemarkGpsDico(placemarkExtendedDataList[i]))\n",
    "    return gpsPlacemark_List\n",
    "\n",
    "\n",
    "''' gpsPlacemarkWorkflow function takes kmlroot document input '''\n",
    "''' then return the gpsDicoList out from the Placemarks within kmlroot'''\n",
    "def gpsPlacemarkWorkflow(kmlroot):\n",
    "    placemarkNames = placemarkNameList(kmlroot)\n",
    "    extendedDataList = getPlacemarkExtendedData(placemarkNames)\n",
    "    gpsDicoList = gpsPlacemarkList(extendedDataList)\n",
    "    return gpsDicoList"
   ]
  },
  {
   "cell_type": "markdown",
   "execution_count": null,
   "metadata": {},
   "outputs": [],
   "source": [
    "## Step by Step KML process"
   ]
  },
  {
   "cell_type": "code",
   "execution_count": null,
   "metadata": {},
   "outputs": [],
   "source": [
    "from pykml import parser\n",
    "root = parser.fromstring(open(kml_path4, 'r').read())\n",
    "\n",
    "# get placemark name list\n",
    "adour4PlacemarkName = placemarkNameList(root)\n",
    "print(adour4PlacemarkName)\n",
    "\n",
    "# get placemarks extended data\n",
    "adour4ExtendedData = getPlacemarkExtendedData(adour4PlacemarkName)\n",
    "print(adour4ExtendedData)\n",
    "\n",
    "# get a gps dico from placemarks extended data\n",
    "adour4GpsDicoList =  gpsPlacemarkList(adour4ExtendedData)\n",
    "print(adour4GpsDicoList)"
   ]
  },
  {
   "cell_type": "markdown",
   "execution_count": null,
   "metadata": {},
   "outputs": [],
   "source": [
    "## Full KML process"
   ]
  },
  {
   "cell_type": "code",
   "execution_count": null,
   "metadata": {},
   "outputs": [],
   "source": [
    "gps_path = '../kmlsamples'\n",
    "kml_file4 = '19022020_Adour_4.kml'\n",
    "kml_path4 = os.path.join(gps_path,kml_file4)\n",
    "kml_file5 = '19022020_Adour_5.kml'\n",
    "kml_path5 = os.path.join(gps_path,kml_file5)\n",
    "kml_file6 = '19022020_Adour_6.kml'\n",
    "kml_path6 = os.path.join(gps_path,kml_file6)"
   ]
  },
  {
   "cell_type": "code",
   "execution_count": null,
   "metadata": {},
   "outputs": [],
   "source": [
    "# ADOUR4GPS\n",
    "from pykml import parser\n",
    "root = parser.fromstring(open(kml_path4, 'r').read())\n",
    "adour4GPS = gpsPlacemarkWorkflow(root)\n",
    "print(len(adour4GPS))\n",
    "print(adour4GPS)"
   ]
  },
  {
   "cell_type": "code",
   "execution_count": null,
   "metadata": {},
   "outputs": [],
   "source": [
    "# ADOUR5GPS\n",
    "from pykml import parser\n",
    "root = parser.fromstring(open(kml_path5, 'r').read())\n",
    "adour5GPS = gpsPlacemarkWorkflow(root)\n",
    "print(len(adour5GPS))\n",
    "print(adour5GPS)"
   ]
  },
  {
   "cell_type": "code",
   "execution_count": null,
   "metadata": {},
   "outputs": [],
   "source": [
    "# ADOUR6GPS\n",
    "from pykml import parser\n",
    "root = parser.fromstring(open(kml_path6, 'r').read())\n",
    "adour6GPS = gpsPlacemarkWorkflow(root)\n",
    "print(len(adour5GPS))\n",
    "print(adour6GPS)"
   ]
  },
  {
   "cell_type": "markdown",
   "execution_count": null,
   "metadata": {},
   "outputs": [],
   "source": [
    "# Video Metadata"
   ]
  },
  {
   "cell_type": "code",
   "execution_count": null,
   "metadata": {},
   "outputs": [],
   "source": [
    "! pip install opencv-python"
   ]
  },
  {
   "cell_type": "code",
   "execution_count": null,
   "metadata": {},
   "outputs": [],
   "source": [
    "os.listdir('../kmlsamples/')"
   ]
  },
  {
   "cell_type": "code",
   "execution_count": null,
   "metadata": {},
   "outputs": [],
   "source": [
    "import os\n",
    "\n",
    "# video path\n",
    "video_path = '../kmlsamples/'\n",
    "video4_file = '19022020_Adour_4.mp4'\n",
    "video5_file = '19022020_Adour_5.mp4'\n",
    "video6_file = '19022020_Adour_6.mp4'\n",
    "video4_path = os.path.join(video_path,video4_file)\n",
    "video5_path = os.path.join(video_path,video5_file)\n",
    "video6_path = os.path.join(video_path,video6_file)\n",
    "print(video4_path)"
   ]
  },
  {
   "cell_type": "code",
   "execution_count": null,
   "metadata": {},
   "outputs": [],
   "source": [
    "# Frame count using opencv\n",
    "import cv2\n",
    "cap = cv2.VideoCapture(video4_path)\n",
    "length = cap.get(cv2.CAP_PROP_FRAME_COUNT)\n",
    "print(int(length))"
   ]
  },
  {
   "cell_type": "markdown",
   "execution_count": null,
   "metadata": {},
   "outputs": [],
   "source": [
    "## Video info helper functions"
   ]
  },
  {
   "cell_type": "code",
   "execution_count": null,
   "metadata": {},
   "outputs": [],
   "source": [
    "! brew install mediainfo"
   ]
  },
  {
   "cell_type": "code",
   "execution_count": null,
   "metadata": {},
   "outputs": [],
   "source": [
    "# https://stackoverflow.com/questions/3844430/how-to-get-the-duration-of-a-video-in-python\n",
    "import json\n",
    "import subprocess\n",
    "\n",
    "#===============================\n",
    "def getMediaInfo(mediafile):\n",
    "    cmd = \"mediainfo --Output=JSON %s\"%(mediafile)\n",
    "    proc = subprocess.Popen(cmd, shell=True,stderr=subprocess.PIPE, stdout=subprocess.PIPE)\n",
    "    stdout, stderr = proc.communicate()\n",
    "    data = json.loads(stdout)\n",
    "    return data\n",
    "\n",
    "#===============================\n",
    "def getDuration(mediafile):\n",
    "    data = getMediaInfo(mediafile)\n",
    "    duration = float(data['media']['track'][0]['Duration'])\n",
    "    return duration\n",
    "\n",
    "#===============================\n",
    "def getFrameRate(mediafile):\n",
    "    data = getMediaInfo(mediafile)\n",
    "    frameRate = float(data['media']['track'][0]['FrameRate'])\n",
    "    return frameRate\n",
    "\n",
    "#===============================\n",
    "def getFrameCount(mediafile):\n",
    "    data = getMediaInfo(mediafile)\n",
    "    frameCount = float(data['media']['track'][0]['FrameCount'])\n",
    "    return frameCount"
   ]
  },
  {
   "cell_type": "markdown",
   "execution_count": null,
   "metadata": {},
   "outputs": [],
   "source": [
    "## Video Adour4 GPS twisting"
   ]
  },
  {
   "cell_type": "markdown",
   "execution_count": null,
   "metadata": {},
   "outputs": [],
   "source": [
    "### Video4 infos"
   ]
  },
  {
   "cell_type": "code",
   "execution_count": null,
   "metadata": {},
   "outputs": [],
   "source": [
    "# Video4 path\n",
    "video4_file = '19022020_Adour_4.mp4'\n",
    "video_path = '../kmlsamples/'\n",
    "video4_path = os.path.join(video_path,video4_file)\n",
    "\n",
    "# Get Video info\n",
    "video4_metadata = getMediaInfo(video4_path)\n",
    "video4_duration = getDuration(video4_path)\n",
    "video4_frameRate = getFrameRate(video4_path)\n",
    "video4_frameCount = getFrameCount(video4_path)"
   ]
  },
  {
   "cell_type": "markdown",
   "execution_count": null,
   "metadata": {},
   "outputs": [],
   "source": [
    "### Video4 Length seconds vs GPS points"
   ]
  },
  {
   "cell_type": "code",
   "execution_count": null,
   "metadata": {},
   "outputs": [],
   "source": [
    "# Get info from Video metadata\n",
    "print(\"############  Info about video ############\")\n",
    "# Checking duration in seconds and minutes\n",
    "import datetime\n",
    "duration = video4_duration\n",
    "video4_second_minutes = str(datetime.timedelta(seconds=duration))\n",
    "print(\"Video duration in second from metadata:\",video4_duration)\n",
    "print(\"Video duration in minutes from metadata:\",video4_second_minutes)\n",
    "\n",
    "# checking duration based on frameCount and frameRate\n",
    "check_duration = video4_frameCount / video4_frameRate\n",
    "print(\"Calculating video duration:\",check_duration)\n",
    "print(\"\\n\")\n",
    "\n",
    "\n",
    "# Get info from Video metadata\n",
    "print(\"############  Get GPS from KML video ############\")\n",
    "\n",
    "# ADOUR4GPS\n",
    "from pykml import parser\n",
    "root = parser.fromstring(open(kml_path4, 'r').read())\n",
    "adour4GPS = gpsPlacemarkWorkflow(root)\n",
    "print(\"Number of GPS points in KML file:\",len(adour4GPS))\n",
    "\n",
    "### OBSERVATION ###\n",
    "'''\n",
    "Video duration is 199 s for video4\n",
    "GPS number of points is 156 - so there is less GPS point than the total duration of the video\n",
    "There is \"almost\" a 1:1 relationship anyway between number of GPS point and duration in second\n",
    "We assume that the system is approximatively taking a GPS point every second when possible\n",
    "Because there are about 25 Frame per second, we assume that every 25 frame within same second has same gps coordinate\n",
    "-> gpsHelper function: a function is required anyway to associate a GPS coordinate with every second of a video\n",
    "-> when there is no GPS point at a given timestep= we can copy the previous one, or the next one or make an average\n",
    "-> this is what will do the gpsHelper function\n",
    "'''"
   ]
  },
  {
   "cell_type": "code",
   "execution_count": null,
   "metadata": {},
   "outputs": [],
   "source": [
    "for gps in adour4GPS:\n",
    "    print(gps)\n",
    "# observation: 156 points GPS -> we want 200 GPS points because there is 199.986 s in video"
   ]
  },
  {
   "cell_type": "code",
   "execution_count": null,
   "metadata": {},
   "outputs": [],
   "source": [
    "# createTime, createLatitude and createLongitude, create Elevation helper functions\n",
    "import datetime\n",
    "from datetime import datetime\n",
    "from datetime import timedelta\n",
    "def createTime(time):\n",
    "    new_time = datetimeHelper(time)\n",
    "    new_time = new_time + timedelta(seconds=1)\n",
    "    new_time = datetime.strftime(new_time, '%d/%m/%Y %H:%M:%S')\n",
    "    new_time = str(new_time)\n",
    "    return new_time\n",
    "\n",
    "def createLatitude(lat1,lat2):\n",
    "    new_latitude = (lat1+lat2)/2\n",
    "    new_latitude = round(new_latitude,6)\n",
    "    return new_latitude\n",
    "\n",
    "def createLongitude(long1,long2):\n",
    "    new_longitude = (long1+long2)/2\n",
    "    new_latitude = round(new_longitude,6)\n",
    "    return new_longitude\n",
    "\n",
    "def createElevation(elev1,elev2):\n",
    "    new_elevation = (elev1+elev2)/2\n",
    "    new_elevation = round(new_elevation,6)\n",
    "    return new_elevation\n",
    "\n",
    "# Testing helper functions\n",
    "gps7 = adour4GPS[6]\n",
    "gps8 = adour4GPS[7]\n",
    "print(gps7)\n",
    "print(gps8)\n",
    "\n",
    "# Create Time, Latitude, Longitude, Elevation\n",
    "print(gps7['Time'])\n",
    "missing_time = createTime(gps7['Time'])\n",
    "print(missing_time)\n",
    "missing_latitude = createLatitude(gps7['Latitude'],gps8['Latitude'])\n",
    "print(missing_latitude)\n",
    "missing_longitude = createLongitude(gps7['Longitude'],gps8['Longitude'])\n",
    "print(missing_longitude)\n",
    "missing_elevation = createElevation(gps7['Elevation'],gps8['Elevation'])\n",
    "print(missing_elevation)\n",
    "\n",
    "# New GPS\n",
    "new_gps = {'Time':missing_time,'Latitude':missing_latitude,'Longitude':missing_longitude,'Elevation':missing_elevation}\n",
    "print(new_gps)"
   ]
  },
  {
   "cell_type": "code",
   "execution_count": null,
   "metadata": {},
   "outputs": [],
   "source": [
    "gps7_time = datetimeHelper(gps7['Time'])\n",
    "gps8_time = datetimeHelper(gps8['Time'])\n",
    "gpsnew_time = datetimeHelper(new_gps['Time'])\n",
    "delta = gpsnew_time - gps7_time\n",
    "delta.total_seconds()"
   ]
  },
  {
   "cell_type": "code",
   "execution_count": null,
   "metadata": {},
   "outputs": [],
   "source": [
    "duration = round(duration)\n",
    "duration"
   ]
  },
  {
   "cell_type": "code",
   "execution_count": null,
   "metadata": {},
   "outputs": [],
   "source": [
    "gps7_time = datetimeHelper(gps7['Time'])\n",
    "gps8_time = datetimeHelper(gps8['Time'])\n",
    "delta = int((gps8_time - gps7_time).total_seconds())\n",
    "\n",
    "if delta > 1:\n",
    "    missing_time = createTime(gps7['Time'])\n",
    "    missing_latitude = createLatitude(gps7['Latitude'],gps8['Latitude'])\n",
    "    missing_longitude = createLongitude(gps7['Longitude'],gps8['Longitude'])\n",
    "    missing_elevation = createElevation(gps7['Elevation'],gps8['Elevation'])\n",
    "    new_gps = {'Time':missing_time,'Latitude':missing_latitude,'Longitude':missing_longitude,'Elevation':missing_elevation}\n",
    "print(new_gps)"
   ]
  },
  {
   "cell_type": "code",
   "execution_count": 100,
   "metadata": {},
   "outputs": [],
   "source": [
    "temp_gps = [adour4GPS[0]]\n",
    "i = 1\n",
    "while i < 155: #up to 199\n",
    "    delta = datetimeHelper(adour4GPS[i+1]['Time'])-datetimeHelper(adour4GPS[i]['Time'])\n",
    "    delta = int(delta.total_seconds())\n",
    "    if delta == 1:\n",
    "        temp_gps.append(adour4GPS[i])\n",
    "    else:\n",
    "        missing_time = createTime(gps7['Time'])\n",
    "        missing_latitude = createLatitude(gps7['Latitude'],gps8['Latitude'])\n",
    "        missing_longitude = createLongitude(gps7['Longitude'],gps8['Longitude'])\n",
    "        missing_elevation = createElevation(gps7['Elevation'],gps8['Elevation'])\n",
    "        new_gps = {'Time':missing_time,'Latitude':missing_latitude,'Longitude':missing_longitude,'Elevation':missing_elevation}\n",
    "        temp_gps.append(new_gps)\n",
    "        temp_gps.append(adour4GPS[i+1])\n",
    "    i = i+1\n",
    "temp_gps.append(adour4GPS[155])"
   ]
  },
  {
   "cell_type": "code",
   "execution_count": 101,
   "metadata": {},
   "outputs": [
    {
     "data": {
      "text/plain": "{'Time': '19/02/2020 15:02:39',\n 'Latitude': 43.49635,\n 'Longitude': -1.36943,\n 'Elevation': 50.665527}"
     },
     "execution_count": 101,
     "metadata": {},
     "output_type": "execute_result"
    }
   ],
   "source": [
    "adour4GPS[155]"
   ]
  },
  {
   "cell_type": "code",
   "execution_count": 103,
   "metadata": {},
   "outputs": [
    {
     "data": {
      "text/plain": "{'Time': '19/02/2020 15:02:39',\n 'Latitude': 43.49635,\n 'Longitude': -1.36943,\n 'Elevation': 50.665527}"
     },
     "execution_count": 103,
     "metadata": {},
     "output_type": "execute_result"
    }
   ],
   "source": [
    "temp_gps[198]"
   ]
  },
  {
   "cell_type": "markdown",
   "execution_count": null,
   "metadata": {},
   "outputs": [],
   "source": [
    "### Adour4 GPS"
   ]
  },
  {
   "cell_type": "markdown",
   "execution_count": null,
   "metadata": {},
   "outputs": [],
   "source": [
    "## Datetime Helper for GPX/KML"
   ]
  },
  {
   "cell_type": "code",
   "execution_count": null,
   "metadata": {},
   "outputs": [],
   "source": [
    "datetime_str = adour4GPS[0]['Time']\n",
    "datetime_str"
   ]
  },
  {
   "cell_type": "code",
   "execution_count": null,
   "metadata": {},
   "outputs": [],
   "source": [
    "# String Datetime to Datetime type\n",
    "import datetime\n",
    "from datetime import datetime\n",
    "\n",
    "def datetimeHelper(datetime_str):\n",
    "    '''\n",
    "    Argument: datetime_str is a datetime string\n",
    "    Output: datetimeHelper convert a datetime string with format %d/%m/%Y %H:%M:%S to format Y-m-d %H:%M:%S\n",
    "    '''\n",
    "    datetime_converted = datetime.strptime(datetime_str, '%d/%m/%Y %H:%M:%S')\n",
    "    return datetime_converted\n",
    "\n",
    "\n",
    "datetime_example = adour4GPS[0]['Time']\n",
    "print(datetime_example)\n",
    "print(datetimeHelper((datetime_example)))"
   ]
  },
  {
   "cell_type": "code",
   "execution_count": null,
   "metadata": {},
   "outputs": [],
   "source": [
    "# KML vs GPX datetime\n",
    "print(\"GPX datetime format\")\n",
    "print(mypoints[0]['Time'])\n",
    "print(\"KML datetime format\")\n",
    "print(datetime_test)"
   ]
  }
 ]
}