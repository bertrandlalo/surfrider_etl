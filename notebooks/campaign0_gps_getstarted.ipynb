{
 "nbformat": 4,
 "nbformat_minor": 2,
 "metadata": {
  "language_info": {
   "name": "python",
   "codemirror_mode": {
    "name": "ipython",
    "version": 3
   },
   "version": "3.6.9-final"
  },
  "orig_nbformat": 2,
  "file_extension": ".py",
  "mimetype": "text/x-python",
  "name": "python",
  "npconvert_exporter": "python",
  "pygments_lexer": "ipython3",
  "version": 3,
  "kernelspec": {
   "name": "python36964bitcondacadf76f2c1054d4581372baf88a91024",
   "display_name": "Python 3.6.9 64-bit (conda)"
  }
 },
 "cells": [
  {
   "cell_type": "code",
   "execution_count": null,
   "metadata": {},
   "outputs": [],
   "source": [
    "import os"
   ]
  },
  {
   "cell_type": "code",
   "execution_count": null,
   "metadata": {},
   "outputs": [],
   "source": [
    "! pip install gpxpy"
   ]
  },
  {
   "cell_type": "code",
   "execution_count": null,
   "metadata": {},
   "outputs": [],
   "source": [
    "! pip install pykml"
   ]
  },
  {
   "cell_type": "markdown",
   "execution_count": null,
   "metadata": {},
   "outputs": [],
   "source": [
    "## GPX file"
   ]
  },
  {
   "cell_type": "code",
   "execution_count": null,
   "metadata": {},
   "outputs": [],
   "source": [
    "gps_path = '../gpssamples'\n",
    "gpx_file = '3145554.gpx'\n",
    "gpx_path = os.path.join(gps_path,gpx_file)"
   ]
  },
  {
   "cell_type": "code",
   "execution_count": null,
   "metadata": {},
   "outputs": [],
   "source": [
    "import gpxpy\n",
    "import gpxpy.gpx \n",
    "gpx_file = open(gpx_path,'r',encoding='utf-8')\n",
    "gpx = gpxpy.parse(gpx_file) # data from parsed gpx file"
   ]
  },
  {
   "cell_type": "code",
   "execution_count": null,
   "metadata": {},
   "outputs": [],
   "source": [
    "''' gpsPointList function extract gps points from gpx file '''\n",
    "''' gpxdata is a gpxpy object that returns data from a parsed gpx file'''\n",
    "''' gpsPointList return a list of dictionnary points with Time, Lat, Long, Elev'''\n",
    "def gpsPointList(gpxdata):\n",
    "    point_list = []\n",
    "    for track in gpxdata.tracks:\n",
    "        for segment in track.segments: \n",
    "            for point in segment.points:\n",
    "                point_info = {'Time':point.time,'Latitude':point.latitude,'Longitude':point.longitude,'Elevation':point.elevation}\n",
    "                point_list.append(point_info)\n",
    "    return point_list"
   ]
  },
  {
   "cell_type": "code",
   "execution_count": null,
   "metadata": {},
   "outputs": [],
   "source": [
    "mypoints = gpsPointList(gpx)\n",
    "for i in range(0,10):\n",
    "    print(mypoints[i])"
   ]
  },
  {
   "cell_type": "code",
   "execution_count": null,
   "metadata": {},
   "outputs": [],
   "source": [
    "for i in range (0,10):\n",
    "    print(mypoints[i]['Time'])"
   ]
  },
  {
   "cell_type": "code",
   "execution_count": null,
   "metadata": {},
   "outputs": [],
   "source": [
    "print(mypoints[0]['Time'])"
   ]
  },
  {
   "cell_type": "markdown",
   "execution_count": null,
   "metadata": {},
   "outputs": [],
   "source": [
    "## KML File"
   ]
  },
  {
   "cell_type": "code",
   "execution_count": null,
   "metadata": {},
   "outputs": [],
   "source": [
    "gps_path = '../kmlsamples'\n",
    "kml_file4 = '19022020_Adour_4.kml'\n",
    "kml_path4 = os.path.join(gps_path,kml_file4)\n",
    "kml_file5 = '19022020_Adour_5.kml'\n",
    "kml_path5 = os.path.join(gps_path,kml_file5)\n",
    "kml_file6 = '19022020_Adour_6.kml'\n",
    "kml_path6 = os.path.join(gps_path,kml_file6)"
   ]
  },
  {
   "cell_type": "markdown",
   "execution_count": null,
   "metadata": {},
   "outputs": [],
   "source": [
    "## KML processing first tests"
   ]
  },
  {
   "cell_type": "code",
   "execution_count": null,
   "metadata": {},
   "outputs": [],
   "source": [
    "from pykml import parser\n",
    "gps_path = '../gpssamples'\n",
    "kml_file = '19022020_Adour_6.kml'\n",
    "kml_path = os.path.join(gps_path,kml_file)\n",
    "root = parser.fromstring(open(kml_path, 'r').read())\n",
    "print (root.Document.Placemark.Point.coordinates)"
   ]
  },
  {
   "cell_type": "code",
   "execution_count": null,
   "metadata": {},
   "outputs": [],
   "source": [
    "# Getting Placemark child info example\n",
    "for placemark in root.Document.Placemark:\n",
    "    print(placemark.name)\n",
    "    print(placemark.styleUrl)"
   ]
  },
  {
   "cell_type": "code",
   "execution_count": null,
   "metadata": {},
   "outputs": [],
   "source": [
    "# Placemark 0 example: getting Extended info\n",
    "for placemark in root.Document.Placemark:\n",
    "    if(placemark.name == 0):\n",
    "        print(\"Placemark Name: \",placemark.name)\n",
    "        test = placemark\n",
    "\n",
    "for SimpleData in test.ExtendedData.SchemaData.SimpleData:\n",
    "        print(SimpleData)"
   ]
  },
  {
   "cell_type": "code",
   "execution_count": null,
   "metadata": {},
   "outputs": [],
   "source": [
    "''' placeMarkNameList function takes a parsed kml file input'''\n",
    "''' then returns the a list of Placemark names'''\n",
    "def placemarkNameList(kmlroot):\n",
    "    placemark_name = []\n",
    "    for placemark in kmlroot.Document.Placemark:\n",
    "        placemark_name.append(placemark.name)\n",
    "    return placemark_name\n",
    "\n",
    "# Testing placemarkNameList function\n",
    "mykmlPlacemarkList = placemarkNameList(root)\n",
    "print(mykmlPlacemarkList)"
   ]
  },
  {
   "cell_type": "code",
   "execution_count": null,
   "metadata": {},
   "outputs": [],
   "source": [
    "''' getPlacemarkExtendedData function takes a placemarkname list input '''\n",
    "''' then return'''\n",
    "def getPlacemarkExtendedData(placemarkname):\n",
    "    placemarkExtendedData_list = []\n",
    "    for i in range(1,len(placemarkname)-1):\n",
    "        \n",
    "        placemarkExtendedData_info = []\n",
    "        for placemark in root.Document.Placemark:\n",
    "            if(placemark.name == placemarkname[i]):\n",
    "                #print(placemark.name)\n",
    "                temp = placemark\n",
    "        for SimpleData in temp.ExtendedData.SchemaData.SimpleData:\n",
    "                #print(SimpleData)\n",
    "                placemarkExtendedData_info.append(SimpleData)\n",
    "\n",
    "        placemarkExtendedData_list.append(placemarkExtendedData_info)\n",
    "    return placemarkExtendedData_list\n",
    "\n",
    "# testing getPlacemarkExtendedData function\n",
    "mykmlPlacemarkExtendedDataList = getPlacemarkExtendedData(mykmlPlacemarkList)\n",
    "print(mykmlPlacemarkExtendedDataList)"
   ]
  },
  {
   "cell_type": "code",
   "execution_count": null,
   "metadata": {},
   "outputs": [],
   "source": [
    "''' placemarkgpsDico function takes extendeddata input '''\n",
    "''' then returns a gps dico from it'''\n",
    "def placemarkGpsDico(extendeddata):\n",
    "    dico = {\"Time\":str(extendeddata[7])+\" \"+str(extendeddata[8]),\"Latitude\":extendeddata[1],\"Longitude\":extendeddata[2],\"Elevation\":extendeddata[6]}\n",
    "    return dico\n",
    "\n",
    "# testing placemarkGpsDico\n",
    "myextendeddatadico = placemarkGpsDico(mykmlPlacemarkExtendedDataList[0])\n",
    "print(myextendeddatadico)"
   ]
  },
  {
   "cell_type": "code",
   "execution_count": null,
   "metadata": {},
   "outputs": [],
   "source": [
    "def gpsPlacemarkList(placemarkExtendedDataList):\n",
    "    gpsPlacemark_List = []\n",
    "    for i in range(0,len(placemarkExtendedDataList)):\n",
    "        gpsPlacemark_List.append(placemarkGpsDico(placemarkExtendedDataList[i]))\n",
    "    return gpsPlacemark_List\n",
    "\n",
    "myGpsPlacemarkList =  gpsPlacemarkList(mykmlPlacemarkExtendedDataList)\n",
    "myGpsPlacemarkList"
   ]
  },
  {
   "cell_type": "markdown",
   "execution_count": null,
   "metadata": {},
   "outputs": [],
   "source": [
    "## KML functions helpers"
   ]
  },
  {
   "cell_type": "code",
   "execution_count": null,
   "metadata": {},
   "outputs": [],
   "source": [
    "''' placeMarkNameList function takes a parsed kml file input'''\n",
    "''' then returns the a list of Placemark names'''\n",
    "def placemarkNameList(kmlroot):\n",
    "    placemark_name = []\n",
    "    for placemark in kmlroot.Document.Placemark:\n",
    "        placemark_name.append(placemark.name)\n",
    "    return placemark_name\n",
    "    \n",
    "\n",
    "''' getPlacemarkExtendedData function takes a placemarkname list input '''\n",
    "''' then return'''\n",
    "def getPlacemarkExtendedData(placemarkname):\n",
    "    placemarkExtendedData_list = []\n",
    "    for i in range(1,len(placemarkname)-1):\n",
    "        \n",
    "        placemarkExtendedData_info = []\n",
    "        for placemark in root.Document.Placemark:\n",
    "            if(placemark.name == placemarkname[i]):\n",
    "                #print(placemark.name)\n",
    "                temp = placemark\n",
    "        for SimpleData in temp.ExtendedData.SchemaData.SimpleData:\n",
    "                #print(SimpleData)\n",
    "                placemarkExtendedData_info.append(SimpleData)\n",
    "\n",
    "        placemarkExtendedData_list.append(placemarkExtendedData_info)\n",
    "    return placemarkExtendedData_list\n",
    "\n",
    "\n",
    "''' placemarkgpsDico function takes extendeddata input '''\n",
    "''' then returns a gps dico from it'''\n",
    "def placemarkGpsDico(extendeddata):\n",
    "    dico = {\"Time\":str(extendeddata[7])+\" \"+str(extendeddata[8]),\"Latitude\":extendeddata[1],\"Longitude\":extendeddata[2],\"Elevation\":extendeddata[6]}\n",
    "    return dico\n",
    "\n",
    "\n",
    "''' gpsPlacemarkList function takes placemarkExtendedDataList input '''\n",
    "''' then returng a list of gps dico of Placemark'''\n",
    "def gpsPlacemarkList(placemarkExtendedDataList):\n",
    "    gpsPlacemark_List = []\n",
    "    for i in range(0,len(placemarkExtendedDataList)):\n",
    "        gpsPlacemark_List.append(placemarkGpsDico(placemarkExtendedDataList[i]))\n",
    "    return gpsPlacemark_List\n",
    "\n",
    "\n",
    "''' gpsPlacemarkWorkflow function takes kmlroot document input '''\n",
    "''' then return the gpsDicoList out from the Placemarks within kmlroot'''\n",
    "def gpsPlacemarkWorkflow(kmlroot):\n",
    "    placemarkNames = placemarkNameList(kmlroot)\n",
    "    extendedDataList = getPlacemarkExtendedData(placemarkNames)\n",
    "    gpsDicoList = gpsPlacemarkList(extendedDataList)\n",
    "    return gpsDicoList"
   ]
  },
  {
   "cell_type": "markdown",
   "execution_count": null,
   "metadata": {},
   "outputs": [],
   "source": [
    "## Step by Step KML process"
   ]
  },
  {
   "cell_type": "code",
   "execution_count": null,
   "metadata": {},
   "outputs": [],
   "source": [
    "from pykml import parser\n",
    "root = parser.fromstring(open(kml_path4, 'r').read())\n",
    "\n",
    "# get placemark name list\n",
    "adour4PlacemarkName = placemarkNameList(root)\n",
    "print(adour4PlacemarkName)\n",
    "\n",
    "# get placemarks extended data\n",
    "adour4ExtendedData = getPlacemarkExtendedData(adour4PlacemarkName)\n",
    "print(adour4ExtendedData)\n",
    "\n",
    "# get a gps dico from placemarks extended data\n",
    "adour4GpsDicoList =  gpsPlacemarkList(adour4ExtendedData)\n",
    "print(adour4GpsDicoList)"
   ]
  },
  {
   "cell_type": "markdown",
   "execution_count": null,
   "metadata": {},
   "outputs": [],
   "source": [
    "## Full KML process"
   ]
  },
  {
   "cell_type": "code",
   "execution_count": null,
   "metadata": {},
   "outputs": [],
   "source": [
    "gps_path = '../kmlsamples'\n",
    "kml_file4 = '19022020_Adour_4.kml'\n",
    "kml_path4 = os.path.join(gps_path,kml_file4)\n",
    "kml_file5 = '19022020_Adour_5.kml'\n",
    "kml_path5 = os.path.join(gps_path,kml_file5)\n",
    "kml_file6 = '19022020_Adour_6.kml'\n",
    "kml_path6 = os.path.join(gps_path,kml_file6)"
   ]
  },
  {
   "cell_type": "code",
   "execution_count": null,
   "metadata": {},
   "outputs": [],
   "source": [
    "from pykml import parser\n",
    "root = parser.fromstring(open(kml_path4, 'r').read())\n",
    "adour4GPS = gpsPlacemarkWorkflow(root)\n",
    "print(len(adour4GPS))\n",
    "print(adour4GPS)"
   ]
  },
  {
   "cell_type": "code",
   "execution_count": null,
   "metadata": {},
   "outputs": [],
   "source": [
    "from pykml import parser\n",
    "root = parser.fromstring(open(kml_path5, 'r').read())\n",
    "adour5GPS = gpsPlacemarkWorkflow(root)\n",
    "print(len(adour5GPS))\n",
    "print(adour5GPS)"
   ]
  },
  {
   "cell_type": "code",
   "execution_count": null,
   "metadata": {},
   "outputs": [],
   "source": [
    "from pykml import parser\n",
    "root = parser.fromstring(open(kml_path6, 'r').read())\n",
    "adour6GPS = gpsPlacemarkWorkflow(root)\n",
    "print(len(adour5GPS))\n",
    "print(adour6GPS)"
   ]
  },
  {
   "cell_type": "markdown",
   "execution_count": null,
   "metadata": {},
   "outputs": [],
   "source": [
    "# Video Metadata"
   ]
  },
  {
   "cell_type": "code",
   "execution_count": null,
   "metadata": {},
   "outputs": [],
   "source": [
    "! pip install opencv-python"
   ]
  },
  {
   "cell_type": "code",
   "execution_count": null,
   "metadata": {},
   "outputs": [],
   "source": [
    "os.listdir('../kmlsamples/')"
   ]
  },
  {
   "cell_type": "code",
   "execution_count": null,
   "metadata": {},
   "outputs": [],
   "source": [
    "import os\n",
    "\n",
    "# video path\n",
    "video_path = '../kmlsamples/'\n",
    "video4_file = '19022020_Adour_4.mp4'\n",
    "video5_file = '19022020_Adour_5.mp4'\n",
    "video6_file = '19022020_Adour_6.mp4'\n",
    "video4_path = os.path.join(video_path,video4_file)\n",
    "video5_path = os.path.join(video_path,video5_file)\n",
    "video6_path = os.path.join(video_path,video6_file)\n",
    "print(video4_path)"
   ]
  },
  {
   "cell_type": "code",
   "execution_count": null,
   "metadata": {},
   "outputs": [],
   "source": [
    "# Frame count using opencv\n",
    "import cv2\n",
    "cap = cv2.VideoCapture(video4_path)\n",
    "length = cap.get(cv2.CAP_PROP_FRAME_COUNT)\n",
    "print(int(length))"
   ]
  },
  {
   "cell_type": "markdown",
   "execution_count": null,
   "metadata": {},
   "outputs": [],
   "source": [
    "## Video info helper functions"
   ]
  },
  {
   "cell_type": "code",
   "execution_count": null,
   "metadata": {},
   "outputs": [],
   "source": [
    "! brew install mediainfo"
   ]
  },
  {
   "cell_type": "code",
   "execution_count": null,
   "metadata": {},
   "outputs": [],
   "source": [
    "# https://stackoverflow.com/questions/3844430/how-to-get-the-duration-of-a-video-in-python\n",
    "import json\n",
    "import subprocess\n",
    "\n",
    "#===============================\n",
    "def getMediaInfo(mediafile):\n",
    "    cmd = \"mediainfo --Output=JSON %s\"%(mediafile)\n",
    "    proc = subprocess.Popen(cmd, shell=True,stderr=subprocess.PIPE, stdout=subprocess.PIPE)\n",
    "    stdout, stderr = proc.communicate()\n",
    "    data = json.loads(stdout)\n",
    "    return data\n",
    "\n",
    "#===============================\n",
    "def getDuration(mediafile):\n",
    "    data = getMediaInfo(mediafile)\n",
    "    duration = float(data['media']['track'][0]['Duration'])\n",
    "    return duration\n",
    "\n",
    "#===============================\n",
    "def getFrameRate(mediafile):\n",
    "    data = getMediaInfo(mediafile)\n",
    "    frameRate = float(data['media']['track'][0]['FrameRate'])\n",
    "    return frameRate\n",
    "\n",
    "#===============================\n",
    "def getFrameCount(mediafile):\n",
    "    data = getMediaInfo(mediafile)\n",
    "    frameCount = float(data['media']['track'][0]['FrameCount'])\n",
    "    return frameCount"
   ]
  },
  {
   "cell_type": "code",
   "execution_count": null,
   "metadata": {},
   "outputs": [],
   "source": [
    "video4_metadata = getMediaInfo(video4_path)\n",
    "video4_duration = getDuration(video4_path)\n",
    "video4_frameRate = getFrameRate(video4_path)\n",
    "video4_frameCount = getFrameCount(video4_path)"
   ]
  },
  {
   "cell_type": "code",
   "execution_count": null,
   "metadata": {},
   "outputs": [],
   "source": [
    "video4_metadata"
   ]
  },
  {
   "cell_type": "code",
   "execution_count": null,
   "metadata": {},
   "outputs": [],
   "source": [
    "# Checking duration in seconds and minutes\n",
    "import datetime\n",
    "duration = video4_duration\n",
    "video4_second_minutes = str(datetime.timedelta(seconds=duration))\n",
    "print(video4_duration)\n",
    "print(video4_second_minutes)"
   ]
  },
  {
   "cell_type": "code",
   "execution_count": null,
   "metadata": {},
   "outputs": [],
   "source": [
    "# checking duration based on frameCount and frameRate\n",
    "check_duration = video4_frameCount / video4_frameRate\n",
    "print(check_duration)"
   ]
  },
  {
   "cell_type": "code",
   "execution_count": null,
   "metadata": {},
   "outputs": [],
   "source": [
    "# Number of GPS points\n",
    "video4_gps_len = len(adour4GPS)\n",
    "print(video4_gps_len)"
   ]
  },
  {
   "cell_type": "code",
   "execution_count": null,
   "metadata": {},
   "outputs": [],
   "source": [
    "### OBSERVATION ###\n",
    "'''\n",
    "Video duration is 199 s for video4\n",
    "GPS number of points is 156 - so there is less GPS point than the total duration of the video\n",
    "There is \"almost\" a 1:1 relationship anyway between number of GPS point and duration in second\n",
    "We assume that the system is approximatively taking a GPS point every second when possible\n",
    "Because there are about 25 Frame per second, we assume that every 25 frame within same second has same gps coordinate\n",
    "-> gpsHelper function: a function is required anyway to associate a GPS coordinate with every second of a video\n",
    "-> when there is no GPS point at a given timestep= we can copy the previous one, or the next one or make an average\n",
    "-> this is what will do the gpsHelper function\n",
    "'''"
   ]
  },
  {
   "cell_type": "code",
   "execution_count": null,
   "metadata": {},
   "outputs": [],
   "source": [
    "video4_metadata = getMediaInfo(video4_path)\n",
    "video4_duration = getDuration(video4_path)\n",
    "video4_frameRate = getFrameRate(video4_path)\n",
    "video4_frameCount = getFrameCount(video4_path)\n",
    "print(video4_duration)\n",
    "print(video4_frameCount)"
   ]
  },
  {
   "cell_type": "code",
   "execution_count": null,
   "metadata": {},
   "outputs": [],
   "source": [
    "video4_gps_len = len(adour4GPS)\n",
    "print(video4_gps_len)"
   ]
  },
  {
   "cell_type": "code",
   "execution_count": null,
   "metadata": {},
   "outputs": [],
   "source": [
    "video5_metadata = getMediaInfo(video5_path)\n",
    "video5_duration = getDuration(video5_path)\n",
    "video5_frameRate = getFrameRate(video5_path)\n",
    "video5_frameCount = getFrameCount(video5_path)\n",
    "print(video5_duration)\n",
    "print(video5_frameCount)"
   ]
  },
  {
   "cell_type": "code",
   "execution_count": null,
   "metadata": {},
   "outputs": [],
   "source": [
    "video5_gps_len = len(adour5GPS)\n",
    "print(video5_gps_len)"
   ]
  },
  {
   "cell_type": "code",
   "execution_count": null,
   "metadata": {},
   "outputs": [],
   "source": [
    "video6_metadata = getMediaInfo(video6_path)\n",
    "video6_duration = getDuration(video6_path)\n",
    "video6_frameRate = getFrameRate(video6_path)\n",
    "video6_frameCount = getFrameCount(video6_path)\n",
    "print(video6_duration)\n",
    "print(video6_frameCount)"
   ]
  },
  {
   "cell_type": "code",
   "execution_count": null,
   "metadata": {},
   "outputs": [],
   "source": [
    "video6_gps_len = len(adour6GPS)\n",
    "print(video6_gps_len)"
   ]
  },
  {
   "cell_type": "markdown",
   "execution_count": null,
   "metadata": {},
   "outputs": [],
   "source": [
    "## Adour4 GPS"
   ]
  },
  {
   "cell_type": "code",
   "execution_count": null,
   "metadata": {},
   "outputs": [],
   "source": [
    "for gps in adour4GPS:\n",
    "    print(gps)"
   ]
  },
  {
   "cell_type": "code",
   "execution_count": null,
   "metadata": {},
   "outputs": [],
   "source": [
    "duration = video4_duration\n",
    "video4_second_minutes = str(datetime.timedelta(seconds=duration))\n",
    "print(video4_duration)\n",
    "print(video4_second_minutes)"
   ]
  },
  {
   "cell_type": "code",
   "execution_count": null,
   "metadata": {},
   "outputs": [],
   "source": [
    "datetime_str = adour4GPS[0]['Time']\n",
    "datetime_str"
   ]
  },
  {
   "cell_type": "code",
   "execution_count": null,
   "metadata": {},
   "outputs": [],
   "source": [
    "# String Datetime to Datetime type\n",
    "import datetime\n",
    "from datetime import datetime\n",
    "datetime_str = adour4GPS[0]['Time']\n",
    "datetime_test = datetime.strptime(datetime_str, '%d/%m/%Y %H:%M:%S')\n",
    "print(datetime_test)"
   ]
  },
  {
   "cell_type": "code",
   "execution_count": null,
   "metadata": {},
   "outputs": [],
   "source": [
    "from datetime import datetime\n",
    "\n",
    "datetime_str = '09/19/18 13:55:26'\n",
    "datetime_object = datetime.strptime(datetime_str, '%m/%d/%y %H:%M:%S')\n",
    "print(datetime_object)  # printed in default format"
   ]
  },
  {
   "cell_type": "code",
   "execution_count": 124,
   "metadata": {},
   "outputs": [
    {
     "name": "stdout",
     "output_type": "stream",
     "text": "GPX datetime format\n2019-11-09 13:18:27+00:00\nKML datetime format\n2020-02-19 14:59:21\n"
    }
   ],
   "source": [
    "# KML vs GPX datetime\n",
    "print(\"GPX datetime format\")\n",
    "print(mypoints[0]['Time'])\n",
    "print(\"KML datetime format\")\n",
    "print(datetime_test)"
   ]
  }
 ]
}