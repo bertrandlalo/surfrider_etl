{
 "nbformat": 4,
 "nbformat_minor": 2,
 "metadata": {
  "language_info": {
   "name": "python",
   "codemirror_mode": {
    "name": "ipython",
    "version": 3
   },
   "version": "3.6.9-final"
  },
  "orig_nbformat": 2,
  "file_extension": ".py",
  "mimetype": "text/x-python",
  "name": "python",
  "npconvert_exporter": "python",
  "pygments_lexer": "ipython3",
  "version": 3,
  "kernelspec": {
   "name": "python36964bitcondacadf76f2c1054d4581372baf88a91024",
   "display_name": "Python 3.6.9 64-bit (conda)"
  }
 },
 "cells": [
  {
   "cell_type": "code",
   "execution_count": null,
   "metadata": {},
   "outputs": [],
   "source": [
    "! pip install exif"
   ]
  },
  {
   "cell_type": "code",
   "execution_count": null,
   "metadata": {},
   "outputs": [],
   "source": [
    "! pip install pillow"
   ]
  },
  {
   "cell_type": "markdown",
   "execution_count": null,
   "metadata": {},
   "outputs": [],
   "source": [
    "## EXIF testing"
   ]
  },
  {
   "cell_type": "code",
   "execution_count": 159,
   "metadata": {},
   "outputs": [],
   "source": [
    "import os\n",
    "imgsamples_path = '../imgsamples/'\n",
    "\n",
    "img1_file = 'G0061735.JPG'\n",
    "img1_path = os.path.join(imgsamples_path,img_file)\n",
    "\n",
    "img2_file = 'IMG_20200214_150509.jpg'\n",
    "img2_path = os.path.join(imgsamples_path,img2_file)"
   ]
  },
  {
   "cell_type": "markdown",
   "metadata": {},
   "source": [
    "## Exif Library"
   ]
  },
  {
   "cell_type": "code",
   "execution_count": 160,
   "metadata": {},
   "outputs": [],
   "source": [
    "# using exif libary\n",
    "from exif import Image\n",
    "\n",
    "with open(img1_path, 'rb') as image_file: \n",
    "    imageNoGPS = Image(image_file)\n",
    "\n",
    "with open(img2_path, 'rb') as image_file2: \n",
    "    imageGPS = Image(image_file2)"
   ]
  },
  {
   "cell_type": "code",
   "execution_count": 161,
   "metadata": {},
   "outputs": [],
   "source": [
    "def checkExif(exifImage):\n",
    "    print(\"My image has exif:\",my_image.has_exif)\n",
    "\n",
    "    try:\n",
    "        print(exifImage.gps_latitude)\n",
    "    except AttributeError: \n",
    "        print(\"Variable gps_latitude is not defined\")\n",
    "\n",
    "    try:\n",
    "        print(exifImage.gps_longitude)\n",
    "    except AttributeError: \n",
    "        print(\"Variable gps_longitude is not defined\")\n",
    "        \n",
    "    try:\n",
    "        print(exifImage.datetime)\n",
    "    except AttributeError: \n",
    "        print(\"Variable datetime is not defined\")"
   ]
  },
  {
   "cell_type": "code",
   "execution_count": 162,
   "metadata": {},
   "outputs": [
    {
     "name": "stdout",
     "output_type": "stream",
     "text": "My image has exif: True\nVariable gps_latitude is not defined\nVariable gps_longitude is not defined\n2019:12:28 07:19:11\nMy image has exif: True\n(43.0, 27.0, 38.7524)\n(1.0, 32.0, 27.057)\n2020:02:14 15:05:09\n"
    }
   ],
   "source": [
    "checkExif(imageNoGPS)\n",
    "checkExif(imageGPS)"
   ]
  },
  {
   "cell_type": "markdown",
   "metadata": {},
   "source": [
    "## Pillow Library"
   ]
  },
  {
   "cell_type": "code",
   "execution_count": 163,
   "metadata": {},
   "outputs": [],
   "source": [
    "from PIL import Image\n",
    "from PIL.ExifTags import TAGS, GPSTAGS\n",
    "\n",
    "def get_exif(filename):\n",
    "    exif = Image.open(filename)._getexif()\n",
    "\n",
    "    if (exif is not None):\n",
    "        for key, value in exif.items():\n",
    "            name = TAGS.get(key, key)\n",
    "            exif[name] = exif.pop(key)\n",
    "\n",
    "        if ('GPSInfo' in exif):\n",
    "            for key in exif['GPSInfo'].keys():\n",
    "                name = GPSTAGS.get(key,key)\n",
    "                exif['GPSInfo'][name] = exif['GPSInfo'].pop(key)\n",
    "\n",
    "    return exif"
   ]
  },
  {
   "cell_type": "code",
   "execution_count": 164,
   "metadata": {},
   "outputs": [
    {
     "data": {
      "text/plain": "{'GPSLatitudeRef': 'N',\n 'GPSLatitude': ((43, 1), (27, 1), (387524, 10000)),\n 'GPSLongitudeRef': 'W',\n 'GPSLongitude': ((1, 1), (32, 1), (270570, 10000)),\n 'GPSAltitudeRef': (200, 100),\n 'GPSAltitude': (116256, 1000),\n 'GPSTimeStamp': ((14, 1), (5, 1), (8, 1)),\n 'GPSImgDirectionRef': 'M',\n 'GPSImgDirection': (230, 1),\n 'GPSProcessingMethod': 'ASCII\\x00\\x00\\x00GPS',\n 'GPSDateStamp': '2020:02:14'}"
     },
     "execution_count": 164,
     "metadata": {},
     "output_type": "execute_result"
    }
   ],
   "source": [
    "exif = get_exif(img2_path)\n",
    "exif['GPSInfo']"
   ]
  }
 ]
}