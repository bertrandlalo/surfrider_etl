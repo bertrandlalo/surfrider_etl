{
 "nbformat": 4,
 "nbformat_minor": 2,
 "metadata": {
  "language_info": {
   "name": "python",
   "codemirror_mode": {
    "name": "ipython",
    "version": 3
   },
   "version": "3.6.9-final"
  },
  "orig_nbformat": 2,
  "file_extension": ".py",
  "mimetype": "text/x-python",
  "name": "python",
  "npconvert_exporter": "python",
  "pygments_lexer": "ipython3",
  "version": 3,
  "kernelspec": {
   "name": "python36964bitsurfridercondaa4d29431e9f947419d6d850056118d13",
   "display_name": "Python 3.6.9 64-bit ('surfrider': conda)"
  }
 },
 "cells": [
  {
   "cell_type": "markdown",
   "execution_count": null,
   "metadata": {},
   "outputs": [],
   "source": [
    "# Get GPS from GPX"
   ]
  },
  {
   "cell_type": "code",
   "execution_count": null,
   "metadata": {},
   "outputs": [],
   "source": [
    "import os\n",
    "gps_path = '../gpssamples/'\n",
    "#gpx_file = 'adour.gpx' \n",
    "gpx_file = '3145554.gpx'\n",
    "gpx_path = os.path.join(gps_path,gpx_file)"
   ]
  },
  {
   "cell_type": "code",
   "execution_count": null,
   "metadata": {},
   "outputs": [],
   "source": [
    "import gpxpy\n",
    "import gpxpy.gpx \n",
    "gpx_file = open(gpx_path,'r',encoding='utf-8')\n",
    "gpx = gpxpy.parse(gpx_file) # data from parsed gpx file"
   ]
  },
  {
   "cell_type": "code",
   "execution_count": null,
   "metadata": {},
   "outputs": [],
   "source": [
    "''' gpsPointList function extract gps points from gpx file '''\n",
    "''' gpxdata is a gpxpy object that returns data from a parsed gpx file'''\n",
    "''' gpsPointList return a list of dictionnary points with Time, Lat, Long, Elev'''\n",
    "def gpsPointList(gpxdata):\n",
    "    point_list = []\n",
    "    for track in gpxdata.tracks:\n",
    "        for segment in track.segments: \n",
    "            for point in segment.points:\n",
    "                point_info = {'Time':point.time,'Latitude':point.latitude,'Longitude':point.longitude,'Elevation':point.elevation}\n",
    "                point_list.append(point_info)\n",
    "    return point_list"
   ]
  },
  {
   "cell_type": "code",
   "execution_count": null,
   "metadata": {},
   "outputs": [],
   "source": [
    "mypoints = gpsPointList(gpx)\n",
    "for i in range(0,10):\n",
    "    print(mypoints[i])"
   ]
  },
  {
   "cell_type": "markdown",
   "execution_count": null,
   "metadata": {},
   "outputs": [],
   "source": [
    "# Fill missing GPS"
   ]
  },
  {
   "cell_type": "code",
   "execution_count": null,
   "metadata": {},
   "outputs": [],
   "source": [
    "import datetime\n",
    "from datetime import datetime\n",
    "from datetime import timedelta\n",
    "\n",
    "def createTime(time):\n",
    "    new_time = time\n",
    "    new_time = new_time + timedelta(seconds=1)\n",
    "    return new_time\n",
    "\n",
    "def createLatitude(lat1,lat2):\n",
    "    new_latitude = (lat1+lat2)/2\n",
    "    new_latitude = round(new_latitude,6)\n",
    "    return new_latitude\n",
    "\n",
    "def createLongitude(long1,long2):\n",
    "    new_longitude = (long1+long2)/2\n",
    "    new_latitude = round(new_longitude,6)\n",
    "    return new_longitude\n",
    "\n",
    "def createElevation(elev1,elev2):\n",
    "    new_elevation = (elev1+elev2)/2\n",
    "    new_elevation = round(new_elevation,6)\n",
    "    return new_elevation"
   ]
  },
  {
   "cell_type": "code",
   "execution_count": null,
   "metadata": {},
   "outputs": [],
   "source": [
    "def fillGPS(inputGPSList,videoLength):\n",
    "    filledGps = inputGPSList.copy()\n",
    "    gps_length = len(filledGps)\n",
    "    iteration_length = int((filledGps[gps_length-1]['Time'] - filledGps[0]['Time']).total_seconds())\n",
    "    print(iteration_length)\n",
    "    ## this section output a filled gps list of length iteration_length+1 = Delta T between last gps timestamp and first one\n",
    "    i = 0\n",
    "    while i < (iteration_length):\n",
    "#        print(i)\n",
    "        delta = filledGps[i+1]['Time']-filledGps[i]['Time']\n",
    "        delta = int(delta.total_seconds())\n",
    "        if delta > 1: # adding a newly created element at index i+1\n",
    "            print(i)\n",
    "            missing_time = createTime(filledGps[i]['Time'])\n",
    "            missing_latitude = createLatitude(filledGps[i]['Latitude'],filledGps[i+1]['Latitude'])\n",
    "            missing_longitude = createLongitude(filledGps[i]['Longitude'],filledGps[i+1]['Longitude'])\n",
    "            missing_elevation = createElevation(filledGps[i]['Elevation'],filledGps[i+1]['Elevation'])\n",
    "            new_gps = {'Time':missing_time,'Latitude':missing_latitude,'Longitude':missing_longitude,'Elevation':missing_elevation}\n",
    "            filledGps.insert(i+1,new_gps)\n",
    "        i = i+1\n",
    "    ## this section add missing point at the end of the list, in case filledGps initial Delta time length is less than actual video length\n",
    "    if len(filledGps) < videoLength:\n",
    "        j = 0\n",
    "        while len(filledGps) < videoLength:\n",
    "            filledGps.insert(len(filledGps),filledGps[len(filledGps)-1])\n",
    "            j = j+1\n",
    "\n",
    "    return filledGps"
   ]
  },
  {
   "cell_type": "code",
   "execution_count": null,
   "metadata": {},
   "outputs": [],
   "source": [
    "test = fillGPS(mypoints,615)\n",
    "len(test)"
   ]
  },
  {
   "cell_type": "markdown",
   "execution_count": null,
   "metadata": {},
   "outputs": [],
   "source": [
    "# LongLat to shapely Point"
   ]
  },
  {
   "cell_type": "code",
   "execution_count": null,
   "metadata": {},
   "outputs": [],
   "source": [
    "point0 = mypoints[0]\n",
    "point0"
   ]
  },
  {
   "cell_type": "code",
   "execution_count": null,
   "metadata": {},
   "outputs": [],
   "source": [
    "from shapely.geometry import Point\n",
    "point = Point(0.0,0.0) #Longitude, Latitude\n",
    "type(point)"
   ]
  },
  {
   "cell_type": "code",
   "execution_count": null,
   "metadata": {},
   "outputs": [],
   "source": [
    "test1 = {'Time':point0['Time'],'the_geom':point,'Elevation':point0['Elevation']}\n",
    "test1"
   ]
  },
  {
   "cell_type": "code",
   "execution_count": null,
   "metadata": {},
   "outputs": [],
   "source": [
    "point1 = Point(point0['Longitude'],point0['Latitude'])\n",
    "point1.coords.xy"
   ]
  },
  {
   "cell_type": "code",
   "execution_count": null,
   "metadata": {},
   "outputs": [],
   "source": [
    "# convert gps Point to gps Shape Point\n",
    "def longLat2Shape(gpsPoint):\n",
    "    gpsShapePoint = {'Time':gpsPoint['Time'],'the_geom':Point(gpsPoint['Longitude'],gpsPoint['Latitude']),'Elevation':gpsPoint['Elevation']}\n",
    "    return gpsShapePoint"
   ]
  },
  {
   "cell_type": "code",
   "execution_count": null,
   "metadata": {},
   "outputs": [],
   "source": [
    "test = longLat2Shape(point0)\n",
    "test"
   ]
  },
  {
   "cell_type": "code",
   "execution_count": null,
   "metadata": {},
   "outputs": [],
   "source": [
    "test['the_geom'].coords.xy"
   ]
  },
  {
   "cell_type": "code",
   "execution_count": null,
   "metadata": {},
   "outputs": [],
   "source": [
    "def gpsPoints2gpsShapePoints(gpsList):\n",
    "    gpsShapeList = []\n",
    "    for gpsPoint in gpsList:\n",
    "        gpsShapePoint = longLat2Shape(gpsPoint)\n",
    "        gpsShapeList.append(gpsShapePoint)\n",
    "    return gpsShapeList"
   ]
  },
  {
   "cell_type": "code",
   "execution_count": 27,
   "metadata": {},
   "outputs": [
    {
     "data": {
      "text/plain": "shapely.geometry.point.Point"
     },
     "execution_count": 27,
     "metadata": {},
     "output_type": "execute_result"
    }
   ],
   "source": [
    "mygpsShapePoints = gpsPoints2gpsShapePoints(mypoints)\n",
    "type(mygpsShapePoints[0]['the_geom'])"
   ]
  },
  {
   "cell_type": "code",
   "execution_count": null,
   "metadata": {},
   "outputs": [],
   "source": []
  }
 ]
}