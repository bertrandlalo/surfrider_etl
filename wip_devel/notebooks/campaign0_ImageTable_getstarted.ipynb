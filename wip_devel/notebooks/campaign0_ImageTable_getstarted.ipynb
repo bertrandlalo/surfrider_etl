{
 "nbformat": 4,
 "nbformat_minor": 2,
 "metadata": {
  "language_info": {
   "name": "python",
   "codemirror_mode": {
    "name": "ipython",
    "version": 3
   },
   "version": "3.6.9-final"
  },
  "orig_nbformat": 2,
  "file_extension": ".py",
  "mimetype": "text/x-python",
  "name": "python",
  "npconvert_exporter": "python",
  "pygments_lexer": "ipython3",
  "version": 3,
  "kernelspec": {
   "name": "python36964bitcondacadf76f2c1054d4581372baf88a91024",
   "display_name": "Python 3.6.9 64-bit (conda)"
  }
 },
 "cells": [
  {
   "cell_type": "code",
   "execution_count": null,
   "metadata": {},
   "outputs": [],
   "source": [
    "# get connection_string\n",
    "import os\n",
    "connection_string = os.getenv(\"CONN_STRING\")"
   ]
  },
  {
   "cell_type": "code",
   "execution_count": null,
   "metadata": {},
   "outputs": [],
   "source": [
    "! pip install azure-storage-blob"
   ]
  },
  {
   "cell_type": "code",
   "execution_count": null,
   "metadata": {},
   "outputs": [],
   "source": [
    "# import azure blob storage SDK & create blob client to test connectivity\n",
    "from azure.storage.blob import BlobClient\n",
    "my_blob = BlobClient.from_connection_string(conn_str=connection_string,container_name=\"campaign0\", blob_name=\"G0061732.JPG\")\n",
    "print(\"blob URL:\",my_blob.url)\n",
    "print(\"blob properties:\", my_blob.get_blob_properties())"
   ]
  },
  {
   "cell_type": "code",
   "execution_count": null,
   "metadata": {},
   "outputs": [],
   "source": [
    "# import container client and enumerate blob within container\n",
    "from azure.storage.blob import ContainerClient\n",
    "\n",
    "container = ContainerClient.from_connection_string(conn_str=connection_string, container_name=\"campaign0\")\n",
    "\n",
    "blob_list = container.list_blobs()\n",
    "for blob in blob_list:\n",
    "    print(blob.name)"
   ]
  },
  {
   "cell_type": "code",
   "execution_count": null,
   "metadata": {},
   "outputs": [],
   "source": [
    "# pre-requesite: install pyodbc slq driver for python\n",
    "! pip install pyodbc"
   ]
  },
  {
   "cell_type": "code",
   "execution_count": null,
   "metadata": {},
   "outputs": [],
   "source": [
    "# import sql odbc driver and connect to SQL DB\n",
    "import pyodbc\n",
    "server = os.getenv(\"SERVER\")\n",
    "database = os.getenv(\"DATABASE\")\n",
    "username = os.getenv(\"USERNAME\")\n",
    "password = os.getenv(\"PWD\")\n",
    "driver= '{ODBC Driver 17 for SQL Server}'\n",
    "cnxn = pyodbc.connect('DRIVER='+driver+';SERVER='+server+';PORT=1433;DATABASE='+database+';UID='+username+';PWD='+ password)\n",
    "cursor = cnxn.cursor()"
   ]
  },
  {
   "cell_type": "code",
   "execution_count": null,
   "metadata": {},
   "outputs": [],
   "source": [
    "# Sample Query on dbo.Images\n",
    "cursor.execute(\"SELECT * FROM dbo.Images\")\n",
    "row = cursor.fetchone()\n",
    "while row:\n",
    "    print (str(row[0]))\n",
    "    row = cursor.fetchone()"
   ]
  },
  {
   "cell_type": "code",
   "execution_count": null,
   "metadata": {},
   "outputs": [],
   "source": [
    "# Get ColName & DataType of dbo.Images\n",
    "cursor.execute(\"SELECT COLUMN_NAME FROM INFORMATION_SCHEMA.COLUMNS WHERE TABLE_NAME ='Images' ORDER BY ORDINAL_POSITION\")\n",
    "row = cursor.fetchone()\n",
    "col_list = []\n",
    "while row:\n",
    "    print (str(row[0]))\n",
    "    col_list.append(str(row[0]))\n",
    "    row = cursor.fetchone()\n",
    "\n",
    "# create a string of Table columns list\n",
    "def colAsString(column_list):\n",
    "    col_as_string= column_list[0]\n",
    "    for col in col_list[1:len(column_list)]:\n",
    "        col_as_string = col_as_string + ',' + col\n",
    "    return col_as_string\n",
    "colAsString(col_list)"
   ]
  },
  {
   "cell_type": "code",
   "execution_count": null,
   "metadata": {},
   "outputs": [],
   "source": [
    "# SELECT COUNT \n",
    "cursor.execute(\"SELECT COUNT(*) FROM dbo.Images \")\n",
    "row = cursor.fetchone()\n",
    "while row:\n",
    "    print (str(row[0]))\n",
    "    row = cursor.fetchone()"
   ]
  },
  {
   "cell_type": "code",
   "execution_count": null,
   "metadata": {},
   "outputs": [],
   "source": [
    "# SELECT Query on dbo.Images\n",
    "cursor.execute(\"SELECT Id,Filename,BlobName,ContainerUrl,CreatedBy,CreatedOn,Tag,IsDeleted,Latitude,Longitude FROM dbo.Images\")\n",
    "row = cursor.fetchone()\n",
    "while row:\n",
    "    for col in row:\n",
    "        print (str(col))\n",
    "    row = cursor.fetchone()"
   ]
  },
  {
   "cell_type": "code",
   "execution_count": null,
   "metadata": {},
   "outputs": [],
   "source": [
    "# INSERT Query on dbo.Images - First Example\n",
    "cursor.execute(\"INSERT dbo.Images (Id, Filename, BlobName, ContainerUrl, CreatedBy, CreatedOn, Tag, IsDeleted, Latitude, Longitude ) VALUES (NEWID(),'test', 'test', 'test', 'test','2020-01-24' , 'bottle', 'FALSE','50.797731', '2.179029')\")\n",
    "cnxn.commit()"
   ]
  },
  {
   "cell_type": "code",
   "execution_count": null,
   "metadata": {},
   "outputs": [],
   "source": [
    "# Create a list of blob names\n",
    "blob_list = container.list_blobs()\n",
    "blob_names_list = []\n",
    "for blob in blob_list:\n",
    "    blob_names_list.append(blob.name)\n",
    "print(blob_names_list)\n",
    "print(len(blob_names_list))\n",
    "\n",
    "# Example: Extract Blob URL, Properties & Keys for blob0\n",
    "blob0 = BlobClient.from_connection_string(conn_str=connection_string,container_name=\"campaign0\", blob_name=blob_names_list[0])\n",
    "blob0_name = blob_names_list[0]\n",
    "blob0_url = blob0.url\n",
    "blob0_prop = blob0.get_blob_properties()\n",
    "blob0_prop_keys = blob0_prop.keys()\n",
    "print(\"blob name:\",blob0_name)\n",
    "print(\"blob URL:\",blob0_url)\n",
    "print(\"blob properties:\", blob0_prop)\n",
    "print(\"blob properties keys:\", blob0_prop_keys)"
   ]
  },
  {
   "cell_type": "markdown",
   "execution_count": null,
   "metadata": {},
   "outputs": [],
   "source": [
    "# INSERT Sample Images"
   ]
  },
  {
   "cell_type": "code",
   "execution_count": null,
   "metadata": {},
   "outputs": [],
   "source": [
    "# INSERT no parameter\n",
    "cursor.execute(\"INSERT dbo.Images (Id, Filename, BlobName, ContainerUrl, CreatedBy, CreatedOn, Tag, IsDeleted, Latitude, Longitude ) VALUES (NEWID(),'test', 'test', 'test', 'test','2020-01-24' , 'bottle', 'FALSE','50.797731', '2.179029')\")\n",
    "cnxn.commit()"
   ]
  },
  {
   "cell_type": "code",
   "execution_count": null,
   "metadata": {},
   "outputs": [],
   "source": [
    "# INSERT parameterized\n",
    "cursor.execute(\"INSERT dbo.Images (Id, Filename, BlobName, ContainerUrl, CreatedBy, CreatedOn, Tag, IsDeleted, Latitude, Longitude ) VALUES (NEWID(),?, ?, ?, 'test','2020-01-24' , 'bottle', 'FALSE','50.797731', '2.179029')\",blob0_name,blob0_name,blob0_url)\n",
    "cnxn.commit()"
   ]
  },
  {
   "cell_type": "code",
   "execution_count": null,
   "metadata": {},
   "outputs": [],
   "source": [
    "# SELECT Query on dbo.Images\n",
    "cursor.execute(\"SELECT Id,Filename,BlobName,ContainerUrl,CreatedBy,CreatedOn,Tag,IsDeleted,Latitude,Longitude FROM dbo.Images\")\n",
    "row = cursor.fetchone()\n",
    "\n",
    "while row:\n",
    "    print(str(row[0]))\n",
    "    print(str(row[1]))\n",
    "    print(str(row[3]+\"\\n\"))\n",
    "    row = cursor.fetchone()"
   ]
  },
  {
   "cell_type": "markdown",
   "execution_count": null,
   "metadata": {},
   "outputs": [],
   "source": [
    "# INSERT Images Loop over all Blobs in Campaign0 container"
   ]
  },
  {
   "cell_type": "code",
   "execution_count": null,
   "metadata": {},
   "outputs": [],
   "source": [
    "# Get Blob names & url in container Campaign0\n",
    "def getBlobNamesUrl(blob_names):\n",
    "    for i in range(0,len(blob_names)):\n",
    "        blob_i = BlobClient.from_connection_string(conn_str=connection_string,container_name=\"campaign0\", blob_name=blob_names[i])\n",
    "        blob_i_name = blob_names[i]\n",
    "        blob_i_url = blob_i.url\n",
    "        blob_i_prop = blob_i.get_blob_properties()\n",
    "        blob_i_prop_keys = blob_i_prop.keys()\n",
    "        print(blob_i_name)\n",
    "        print(blob_i_url)\n",
    "getBlobNamesUrl(blob_names_list)"
   ]
  },
  {
   "cell_type": "code",
   "execution_count": null,
   "metadata": {},
   "outputs": [],
   "source": [
    "# Check Table content\n",
    "cursor.execute(\"SELECT Id,Filename,BlobName,ContainerUrl,CreatedBy,CreatedOn,Tag,IsDeleted,Latitude,Longitude FROM dbo.Images\")\n",
    "row = cursor.fetchone()\n",
    "while row:\n",
    "    print(str(row[0]))\n",
    "    row = cursor.fetchone()"
   ]
  },
  {
   "cell_type": "code",
   "execution_count": null,
   "metadata": {},
   "outputs": [],
   "source": [
    "# INSERT parameterized\n",
    "for i in range(0,len(blob_names_list)):\n",
    "    blob_i = BlobClient.from_connection_string(conn_str=connection_string,container_name=\"campaign0\", blob_name=blob_names_list[i])\n",
    "    blob_i_name = blob_names_list[i]\n",
    "    blob_i_url = blob_i.url\n",
    "    blob_i_prop = blob_i.get_blob_properties()\n",
    "    blob_i_prop_keys = blob_i_prop.keys()\n",
    "    cursor.execute(\"INSERT dbo.Images (Id, Filename, BlobName, ContainerUrl, CreatedBy, CreatedOn, Tag, IsDeleted, Latitude, Longitude ) VALUES (NEWID(),?, ?, ?, 'test','2020-01-24' , 'bottle', 'FALSE','50.797731', '2.179029')\",blob_i_name,blob_i_name,blob_i_url)\n",
    "cnxn.commit()"
   ]
  },
  {
   "cell_type": "code",
   "execution_count": null,
   "metadata": {},
   "outputs": [],
   "source": [
    "# COUNT rows in table after insert\n",
    "cursor.execute(\"SELECT COUNT (Id) FROM dbo.Images \")\n",
    "row = cursor.fetchone()\n",
    "while row:\n",
    "    print (str(row[0]))\n",
    "    row = cursor.fetchone()"
   ]
  },
  {
   "cell_type": "code",
   "execution_count": null,
   "metadata": {},
   "outputs": [],
   "source": [
    "cursor.execute(\"SELECT Id,Filename,BlobName,ContainerUrl,CreatedBy,CreatedOn,Tag,IsDeleted,Latitude,Longitude FROM dbo.Images\")\n",
    "row = cursor.fetchone()\n",
    "while row:\n",
    "    print(str(row[0]))\n",
    "    print(str(row[1]))\n",
    "    print(str(row[3]))\n",
    "    print(str(row[6])+\"\\n\")\n",
    "    row = cursor.fetchone()"
   ]
  },
  {
   "cell_type": "markdown",
   "execution_count": null,
   "metadata": {},
   "outputs": [],
   "source": [
    "# Clean Images Table"
   ]
  },
  {
   "cell_type": "code",
   "execution_count": null,
   "metadata": {},
   "outputs": [],
   "source": [
    "# DELETE ALL RECORD\n",
    "cursor.execute(\"DELETE FROM dbo.Images\")\n",
    "cnxn.commit()"
   ]
  }
 ]
}