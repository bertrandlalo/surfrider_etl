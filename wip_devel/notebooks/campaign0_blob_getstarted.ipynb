{
 "nbformat": 4,
 "nbformat_minor": 2,
 "metadata": {
  "language_info": {
   "name": "python",
   "codemirror_mode": {
    "name": "ipython",
    "version": 3
   },
   "version": "3.6.8-final"
  },
  "orig_nbformat": 2,
  "file_extension": ".py",
  "mimetype": "text/x-python",
  "name": "python",
  "npconvert_exporter": "python",
  "pygments_lexer": "ipython3",
  "version": 3,
  "kernelspec": {
   "name": "python36864bitcodaiconda6b6c72a496a146eba3c3e88dd2effa6f",
   "display_name": "Python 3.6.8 64-bit ('codai': conda)"
  }
 },
 "cells": [
  {
   "cell_type": "code",
   "execution_count": null,
   "metadata": {},
   "outputs": [],
   "source": [
    "# get connection_string\n",
    "import os\n",
    "connection_string = os.getenv(\"CONN_STRING\")"
   ]
  },
  {
   "cell_type": "code",
   "execution_count": null,
   "metadata": {},
   "outputs": [],
   "source": [
    "! pip install azure-storage-blob"
   ]
  },
  {
   "cell_type": "code",
   "execution_count": 46,
   "metadata": {},
   "outputs": [
    {
     "name": "stdout",
     "output_type": "stream",
     "text": "blob URL: https://surftrashdev01.blob.core.windows.net/campaign0/G0061732.JPG\nblob properties: {'name': 'G0061732.JPG', 'container': 'campaign0', 'snapshot': None, 'blob_type': <BlobType.BlockBlob: 'BlockBlob'>, 'metadata': {}, 'encrypted_metadata': None, 'last_modified': datetime.datetime(2020, 1, 23, 15, 49, 15, tzinfo=datetime.timezone.utc), 'etag': '\"0x8D7A01BCC889566\"', 'size': 2322354, 'content_range': None, 'append_blob_committed_block_count': None, 'page_blob_sequence_number': None, 'server_encrypted': True, 'copy': {'id': None, 'source': None, 'status': None, 'progress': None, 'completion_time': None, 'status_description': None, 'incremental_copy': None, 'destination_snapshot': None}, 'content_settings': {'content_type': 'image/jpeg', 'content_encoding': None, 'content_language': None, 'content_md5': bytearray(b'c\\xac#\\xd52\\xd2Hu\\xcd&\\x950\\x8c\\xa4\\xdbv'), 'content_disposition': '', 'cache_control': None}, 'lease': {'status': 'unlocked', 'state': 'available', 'duration': None}, 'blob_tier': 'Hot', 'blob_tier_change_time': None, 'blob_tier_inferred': True, 'deleted': False, 'deleted_time': None, 'remaining_retention_days': None, 'creation_time': datetime.datetime(2020, 1, 23, 15, 49, 15, tzinfo=datetime.timezone.utc), 'archive_status': None, 'encryption_key_sha256': None, 'request_server_encrypted': True}\n"
    }
   ],
   "source": [
    "# import azure blob storage SDK & create blob client to test connectivity\n",
    "from azure.storage.blob import BlobClient\n",
    "my_blob = BlobClient.from_connection_string(conn_str=connection_string,container_name=\"campaign0\", blob_name=\"G0061732.JPG\")\n",
    "print(\"blob URL:\",my_blob.url)\n",
    "print(\"blob properties:\", my_blob.get_blob_properties())"
   ]
  },
  {
   "cell_type": "code",
   "execution_count": 47,
   "metadata": {},
   "outputs": [
    {
     "name": "stdout",
     "output_type": "stream",
     "text": "G0061732.JPG\nG0061733.JPG\nG0061734.JPG\nG0061735.JPG\nG0061736.JPG\nG0061737.JPG\nG0061738.JPG\nG0061739.JPG\nG0061740.JPG\nG0061741.JPG\nG0061742.JPG\nG0061743.JPG\nG0061744.JPG\nG0061745.JPG\n"
    }
   ],
   "source": [
    "# import container client and enumerate blob within container\n",
    "from azure.storage.blob import ContainerClient\n",
    "\n",
    "container = ContainerClient.from_connection_string(conn_str=connection_string, container_name=\"campaign0\")\n",
    "\n",
    "blob_list = container.list_blobs()\n",
    "for blob in blob_list:\n",
    "    print(blob.name)"
   ]
  },
  {
   "cell_type": "code",
   "execution_count": 48,
   "metadata": {},
   "outputs": [
    {
     "name": "stdout",
     "output_type": "stream",
     "text": "Requirement already satisfied: pyodbc in /anaconda3/envs/surfrider/lib/python3.6/site-packages (4.0.27)\n"
    }
   ],
   "source": [
    "# pre-requesite: install pyodbc slq driver for python\n",
    "! pip install pyodbc"
   ]
  },
  {
   "cell_type": "code",
   "execution_count": 49,
   "metadata": {},
   "outputs": [],
   "source": [
    "# import sql odbc driver and connect to SQL DB\n",
    "import pyodbc\n",
    "server = os.getenv(\"SERVER\")\n",
    "database = os.getenv(\"DATABASE\")\n",
    "username = os.getenv(\"USERNAME\")\n",
    "password = os.getenv(\"PWD\")\n",
    "driver= '{ODBC Driver 17 for SQL Server}'\n",
    "cnxn = pyodbc.connect('DRIVER='+driver+';SERVER='+server+';PORT=1433;DATABASE='+database+';UID='+username+';PWD='+ password)\n",
    "cursor = cnxn.cursor()"
   ]
  },
  {
   "cell_type": "code",
   "execution_count": 50,
   "metadata": {},
   "outputs": [
    {
     "name": "stdout",
     "output_type": "stream",
     "text": "Microsoft SQL Azure (RTM) - 12.0.2000.8 \n\tDec  4 2019 21:24:18 \n\tCopyright (C) 2019 Microsoft Corporation\n\n"
    }
   ],
   "source": [
    "# Testing connection to SQL by Getting Version\n",
    "cursor.execute(\"SELECT @@version;\") \n",
    "row = cursor.fetchone() \n",
    "while row: \n",
    "    print(row[0])\n",
    "    row = cursor.fetchone()"
   ]
  },
  {
   "cell_type": "code",
   "execution_count": 51,
   "metadata": {},
   "outputs": [
    {
     "name": "stdout",
     "output_type": "stream",
     "text": "8D21A132-CF4B-404E-B287-C40A2F12D305\nA4BEBEF9-E071-4F6D-A8CC-C8515D3CEC21\nC1D71590-C24B-41F1-A01E-D8B0489C96FB\n21AE163A-9F1A-4D50-942D-DACD44F59DC7\n0829CCDA-FFF7-4526-B6DF-FD62449E91B6\n632F9018-67E7-42C8-B2BD-FF57781EF2A6\n"
    }
   ],
   "source": [
    "# Sample Query on dbo.Campaign Table\n",
    "cursor.execute(\"SELECT * FROM dbo.Campaign \")\n",
    "row = cursor.fetchone()\n",
    "while row:\n",
    "    print (str(row[0]))\n",
    "    row = cursor.fetchone()"
   ]
  }
 ]
}