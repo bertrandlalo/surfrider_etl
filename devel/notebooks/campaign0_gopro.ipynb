{
 "nbformat": 4,
 "nbformat_minor": 2,
 "metadata": {
  "language_info": {
   "name": "python",
   "codemirror_mode": {
    "name": "ipython",
    "version": 3
   },
   "version": "3.6.9-final"
  },
  "orig_nbformat": 2,
  "file_extension": ".py",
  "mimetype": "text/x-python",
  "name": "python",
  "npconvert_exporter": "python",
  "pygments_lexer": "ipython3",
  "version": 3,
  "kernelspec": {
   "name": "python36964bitcondacadf76f2c1054d4581372baf88a91024",
   "display_name": "Python 3.6.9 64-bit (conda)"
  }
 },
 "cells": [
  {
   "cell_type": "code",
   "execution_count": null,
   "metadata": {},
   "outputs": [],
   "source": [
    "# https://github.com/juanmcasillas/gopro2gpx"
   ]
  },
  {
   "cell_type": "code",
   "execution_count": null,
   "metadata": {},
   "outputs": [],
   "source": [
    "import os\n",
    "\n",
    "# video path\n",
    "goprosamples_path = '../goprosamples/'\n",
    "gopro_file = '19022020_Adour_3_short.mp4'\n",
    "gopro_path = os.path.join(goprosamples_path,gopro_file)\n",
    "print(gopro_path)"
   ]
  },
  {
   "cell_type": "code",
   "execution_count": null,
   "metadata": {},
   "outputs": [],
   "source": [
    "os.getcwd()"
   ]
  },
  {
   "cell_type": "code",
   "execution_count": null,
   "metadata": {},
   "outputs": [],
   "source": [
    "# Frame count using opencv\n",
    "import cv2\n",
    "capture = cv2.VideoCapture(gopro_path)\n",
    "length = capture.get(cv2.CAP_PROP_FRAME_COUNT)\n",
    "print(int(length))"
   ]
  },
  {
   "cell_type": "code",
   "execution_count": null,
   "metadata": {},
   "outputs": [],
   "source": [
    "import json\n",
    "import subprocess\n",
    "\n",
    "#===============================\n",
    "def getMediaInfo(mediafile):\n",
    "    cmd = \"mediainfo --Output=JSON %s\"%(mediafile)\n",
    "    proc = subprocess.Popen(cmd, shell=True,stderr=subprocess.PIPE, stdout=subprocess.PIPE)\n",
    "    stdout, stderr = proc.communicate()\n",
    "    data = json.loads(stdout)\n",
    "    return data\n",
    "\n",
    "#===============================\n",
    "def getDuration(mediafile):\n",
    "    data = getMediaInfo(mediafile)\n",
    "    duration = float(data['media']['track'][0]['Duration'])\n",
    "    return duration\n",
    "\n",
    "#===============================\n",
    "def getFrameRate(mediafile):\n",
    "    data = getMediaInfo(mediafile)\n",
    "    frameRate = float(data['media']['track'][0]['FrameRate'])\n",
    "    return frameRate\n",
    "\n",
    "#===============================\n",
    "def getFrameCount(mediafile):\n",
    "    data = getMediaInfo(mediafile)\n",
    "    frameCount = float(data['media']['track'][0]['FrameCount'])\n",
    "    return frameCount"
   ]
  },
  {
   "cell_type": "code",
   "execution_count": null,
   "metadata": {},
   "outputs": [],
   "source": [
    "# Get GoPro Video info\n",
    "getMediaInfo(gopro_path)"
   ]
  },
  {
   "cell_type": "code",
   "execution_count": null,
   "metadata": {},
   "outputs": [],
   "source": []
  }
 ]
}